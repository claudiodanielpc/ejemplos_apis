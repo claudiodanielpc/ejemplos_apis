{
 "cells": [
  {
   "metadata": {},
   "cell_type": "markdown",
   "source": [
    "# Ejemplos APIS\n",
    "\n",
    "### Major League Baseball"
   ],
   "id": "2a523d4a573d9fc8"
  },
  {
   "metadata": {
    "ExecuteTime": {
     "end_time": "2024-08-08T02:14:30.175055Z",
     "start_time": "2024-08-08T02:14:27.515264Z"
    }
   },
   "cell_type": "code",
   "source": [
    "##Borrar datos del entorno\n",
    "rm(list=ls())\n",
    "if(!require('pacman')) install.packages('pacman')\n",
    "pacman::p_load(tidyverse,janitor,\n",
    "httr,showtext, jsonlite)\n",
    "#Fuente para los gráficos\n",
    "font_add_google(\"Poppins\", \"pop\")\n",
    "showtext_auto()"
   ],
   "id": "1e82aa26c99a0e6c",
   "outputs": [
    {
     "name": "stderr",
     "output_type": "stream",
     "text": [
      "Loading required package: pacman\n",
      "\n"
     ]
    }
   ],
   "execution_count": 1
  },
  {
   "metadata": {
    "ExecuteTime": {
     "end_time": "2024-08-08T02:14:30.203433Z",
     "start_time": "2024-08-08T02:14:30.178559Z"
    }
   },
   "cell_type": "code",
   "source": "urlmlb<-\"https://bdfed.stitch.mlbinfra.com/bdfed/stats/player?&env=prod&season=2024&sportId=1&stats=season&group=hitting&gameType=R&limit=25&offset=0&sortStat=onBasePlusSlugging&order=desc\"",
   "id": "a1f16d05195564e4",
   "outputs": [],
   "execution_count": 2
  },
  {
   "metadata": {
    "ExecuteTime": {
     "end_time": "2024-08-08T02:14:30.468033Z",
     "start_time": "2024-08-08T02:14:30.206991Z"
    }
   },
   "cell_type": "code",
   "source": [
    "#Obtener datos de r\n",
    "r <- GET(urlmlb, timeout(10000))\n",
    "r$status_code"
   ],
   "id": "29b4fd51d8c79bad",
   "outputs": [
    {
     "data": {
      "text/html": [
       "200"
      ],
      "text/markdown": "200",
      "text/latex": "200",
      "text/plain": [
       "[1] 200"
      ]
     },
     "metadata": {},
     "output_type": "display_data"
    }
   ],
   "execution_count": 3
  },
  {
   "metadata": {
    "ExecuteTime": {
     "end_time": "2024-08-08T02:14:30.529505Z",
     "start_time": "2024-08-08T02:14:30.471291Z"
    }
   },
   "cell_type": "code",
   "source": [
    "#Mostrar \n",
    "dfmlb<- fromJSON(rawToChar(r$content))\n",
    "dfmlb"
   ],
   "id": "6bed82bd5597b765",
   "outputs": [
    {
     "data": {
      "text/html": [
       "<dl>\n",
       "\t<dt>$totalSplits</dt>\n",
       "\t\t<dd>140</dd>\n",
       "\t<dt>$playerPool</dt>\n",
       "\t\t<dd>'QUALIFIED'</dd>\n",
       "\t<dt>$stats</dt>\n",
       "\t\t<dd><table class=\"dataframe\">\n",
       "<caption>A data.frame: 25 × 72</caption>\n",
       "<thead>\n",
       "\t<tr><th></th><th scope=col>year</th><th scope=col>playerId</th><th scope=col>playerName</th><th scope=col>type</th><th scope=col>rank</th><th scope=col>playerFullName</th><th scope=col>playerFirstName</th><th scope=col>playerLastName</th><th scope=col>playerUseName</th><th scope=col>playerInitLastName</th><th scope=col>⋯</th><th scope=col>slg</th><th scope=col>ops</th><th scope=col>caughtStealing</th><th scope=col>stolenBases</th><th scope=col>stolenBasePercentage</th><th scope=col>groundIntoDoublePlay</th><th scope=col>rbi</th><th scope=col>groundOutsToAirouts</th><th scope=col>catchersInterference</th><th scope=col>atBatsPerHomeRun</th></tr>\n",
       "\t<tr><th></th><th scope=col>&lt;chr&gt;</th><th scope=col>&lt;int&gt;</th><th scope=col>&lt;chr&gt;</th><th scope=col>&lt;chr&gt;</th><th scope=col>&lt;int&gt;</th><th scope=col>&lt;chr&gt;</th><th scope=col>&lt;chr&gt;</th><th scope=col>&lt;chr&gt;</th><th scope=col>&lt;chr&gt;</th><th scope=col>&lt;chr&gt;</th><th scope=col>⋯</th><th scope=col>&lt;chr&gt;</th><th scope=col>&lt;chr&gt;</th><th scope=col>&lt;int&gt;</th><th scope=col>&lt;int&gt;</th><th scope=col>&lt;chr&gt;</th><th scope=col>&lt;int&gt;</th><th scope=col>&lt;int&gt;</th><th scope=col>&lt;chr&gt;</th><th scope=col>&lt;int&gt;</th><th scope=col>&lt;chr&gt;</th></tr>\n",
       "</thead>\n",
       "<tbody>\n",
       "\t<tr><th scope=row>1</th><td>2024</td><td>592450</td><td>Aaron Judge          </td><td>player</td><td> 1</td><td>Aaron Judge          </td><td>Aaron    </td><td>Judge     </td><td>Aaron    </td><td>A Judge       </td><td>⋯</td><td>.698</td><td>1.157</td><td> 0</td><td> 5</td><td>1.000</td><td>15</td><td>104</td><td>0.65</td><td>1</td><td>9.78 </td></tr>\n",
       "\t<tr><th scope=row>2</th><td>2024</td><td>665742</td><td>Juan Soto            </td><td>player</td><td> 2</td><td>Juan Soto            </td><td>Juan     </td><td>Soto      </td><td>Juan     </td><td>J Soto        </td><td>⋯</td><td>.589</td><td>1.022</td><td> 2</td><td> 5</td><td>.714 </td><td> 7</td><td> 78</td><td>1.30</td><td>0</td><td>14.68</td></tr>\n",
       "\t<tr><th scope=row>3</th><td>2024</td><td>660271</td><td>Shohei Ohtani        </td><td>player</td><td> 3</td><td>Shohei Ohtani        </td><td>Shohei   </td><td>Ohtani    </td><td>Shohei   </td><td>S Ohtani      </td><td>⋯</td><td>.625</td><td>1.019</td><td> 4</td><td>32</td><td>.889 </td><td> 6</td><td> 81</td><td>0.83</td><td>2</td><td>12.79</td></tr>\n",
       "\t<tr><th scope=row>4</th><td>2024</td><td>677951</td><td>Bobby Witt Jr.       </td><td>player</td><td> 4</td><td>Bobby Witt Jr.       </td><td>Robert   </td><td>Witt      </td><td>Bobby    </td><td>B Witt Jr.    </td><td>⋯</td><td>.606</td><td>1.000</td><td>10</td><td>25</td><td>.714 </td><td> 3</td><td> 84</td><td>0.54</td><td>0</td><td>21.09</td></tr>\n",
       "\t<tr><th scope=row>5</th><td>2024</td><td>646240</td><td>Rafael Devers        </td><td>player</td><td> 5</td><td>Rafael Devers        </td><td>Rafael   </td><td>Devers    </td><td>Rafael   </td><td>R Devers      </td><td>⋯</td><td>.602</td><td>.987 </td><td> 0</td><td> 2</td><td>1.000</td><td>10</td><td> 70</td><td>1.06</td><td>0</td><td>15.36</td></tr>\n",
       "\t<tr><th scope=row>6</th><td>2024</td><td>667670</td><td>Brent Rooker         </td><td>player</td><td> 6</td><td>Brent Rooker         </td><td>Terry    </td><td>Rooker    </td><td>Brent    </td><td>B Rooker      </td><td>⋯</td><td>.584</td><td>.952 </td><td> 1</td><td> 7</td><td>.875 </td><td> 3</td><td> 81</td><td>0.59</td><td>0</td><td>13.14</td></tr>\n",
       "\t<tr><th scope=row>7</th><td>2024</td><td>542303</td><td>Marcell Ozuna        </td><td>player</td><td> 7</td><td>Marcell Ozuna        </td><td>Marcell  </td><td>Ozuna     </td><td>Marcell  </td><td>M Ozuna       </td><td>⋯</td><td>.575</td><td>.946 </td><td> 0</td><td> 0</td><td>.--- </td><td>16</td><td> 86</td><td>0.82</td><td>0</td><td>13.16</td></tr>\n",
       "\t<tr><th scope=row>8</th><td>2024</td><td>683002</td><td>Gunnar Henderson     </td><td>player</td><td> 8</td><td>Gunnar Henderson     </td><td>Gunnar   </td><td>Henderson </td><td>Gunnar   </td><td>G Henderson   </td><td>⋯</td><td>.557</td><td>.931 </td><td> 2</td><td>14</td><td>.875 </td><td> 2</td><td> 69</td><td>1.16</td><td>0</td><td>15.48</td></tr>\n",
       "\t<tr><th scope=row>9</th><td>2024</td><td>665489</td><td>Vladimir Guerrero Jr.</td><td>player</td><td> 9</td><td>Vladimir Guerrero Jr.</td><td>Vladimir </td><td>Guerrero  </td><td>Vladimir </td><td>V Guerrero Jr.</td><td>⋯</td><td>.536</td><td>.927 </td><td> 2</td><td> 2</td><td>.500 </td><td>11</td><td> 72</td><td>1.35</td><td>0</td><td>19.77</td></tr>\n",
       "\t<tr><th scope=row>10</th><td>2024</td><td>606466</td><td>Ketel Marte          </td><td>player</td><td> 9</td><td>Ketel Marte          </td><td>Ketel    </td><td>Marte     </td><td>Ketel    </td><td>K Marte       </td><td>⋯</td><td>.559</td><td>.927 </td><td> 1</td><td> 6</td><td>.857 </td><td> 8</td><td> 80</td><td>1.34</td><td>0</td><td>14.69</td></tr>\n",
       "\t<tr><th scope=row>11</th><td>2024</td><td>670541</td><td>Yordan Alvarez       </td><td>player</td><td>11</td><td>Yordan Alvarez       </td><td>Yordan   </td><td>Alvarez   </td><td>Yordan   </td><td>Y Alvarez     </td><td>⋯</td><td>.536</td><td>.922 </td><td> 0</td><td> 5</td><td>1.000</td><td>10</td><td> 58</td><td>0.48</td><td>0</td><td>18.50</td></tr>\n",
       "\t<tr><th scope=row>12</th><td>2024</td><td>547180</td><td>Bryce Harper         </td><td>player</td><td>12</td><td>Bryce Harper         </td><td>Bryce    </td><td>Harper    </td><td>Bryce    </td><td>B Harper      </td><td>⋯</td><td>.541</td><td>.911 </td><td> 4</td><td> 5</td><td>.556 </td><td>12</td><td> 69</td><td>0.73</td><td>0</td><td>15.00</td></tr>\n",
       "\t<tr><th scope=row>13</th><td>2024</td><td>595777</td><td>Jurickson Profar     </td><td>player</td><td>13</td><td>Jurickson Profar     </td><td>Jurickson</td><td>Profar    </td><td>Jurickson</td><td>J Profar      </td><td>⋯</td><td>.490</td><td>.884 </td><td> 2</td><td> 5</td><td>.714 </td><td>11</td><td> 71</td><td>0.99</td><td>0</td><td>21.05</td></tr>\n",
       "\t<tr><th scope=row>14</th><td>2024</td><td>518692</td><td>Freddie Freeman      </td><td>player</td><td>14</td><td>Freddie Freeman      </td><td>Frederick</td><td>Freeman   </td><td>Freddie  </td><td>F Freeman     </td><td>⋯</td><td>.491</td><td>.883 </td><td> 2</td><td> 5</td><td>.714 </td><td>10</td><td> 67</td><td>0.92</td><td>0</td><td>24.19</td></tr>\n",
       "\t<tr><th scope=row>15</th><td>2024</td><td>608070</td><td>José Ramírez         </td><td>player</td><td>14</td><td>José Ramírez         </td><td>José     </td><td>Ramírez   </td><td>José     </td><td>J Ramírez     </td><td>⋯</td><td>.548</td><td>.883 </td><td> 3</td><td>25</td><td>.893 </td><td> 6</td><td> 96</td><td>0.58</td><td>0</td><td>14.67</td></tr>\n",
       "\t<tr><th scope=row>16</th><td>2024</td><td>680757</td><td>Steven Kwan          </td><td>player</td><td>16</td><td>Steven Kwan          </td><td>Steven   </td><td>Kwan      </td><td>Steven   </td><td>S Kwan        </td><td>⋯</td><td>.483</td><td>.873 </td><td> 4</td><td> 9</td><td>.692 </td><td> 5</td><td> 32</td><td>0.71</td><td>0</td><td>32.00</td></tr>\n",
       "\t<tr><th scope=row>17</th><td>2024</td><td>680776</td><td>Jarren Duran         </td><td>player</td><td>17</td><td>Jarren Duran         </td><td>Jarren   </td><td>Duran     </td><td>Jarren   </td><td>J Duran       </td><td>⋯</td><td>.507</td><td>.857 </td><td> 4</td><td>27</td><td>.871 </td><td> 2</td><td> 58</td><td>1.30</td><td>0</td><td>34.21</td></tr>\n",
       "\t<tr><th scope=row>18</th><td>2024</td><td>656941</td><td>Kyle Schwarber       </td><td>player</td><td>17</td><td>Kyle Schwarber       </td><td>Kyle     </td><td>Schwarber </td><td>Kyle     </td><td>K Schwarber   </td><td>⋯</td><td>.473</td><td>.857 </td><td> 2</td><td> 5</td><td>.714 </td><td> 3</td><td> 66</td><td>0.79</td><td>0</td><td>15.96</td></tr>\n",
       "\t<tr><th scope=row>19</th><td>2024</td><td>682829</td><td>Elly De La Cruz      </td><td>player</td><td>19</td><td>Elly De La Cruz      </td><td>Elly     </td><td>De La Cruz</td><td>Elly     </td><td>E De La Cruz  </td><td>⋯</td><td>.500</td><td>.851 </td><td>11</td><td>58</td><td>.841 </td><td> 9</td><td> 50</td><td>1.21</td><td>0</td><td>21.30</td></tr>\n",
       "\t<tr><th scope=row>20</th><td>2024</td><td>623993</td><td>Anthony Santander    </td><td>player</td><td>19</td><td>Anthony Santander    </td><td>Anthony  </td><td>Santander </td><td>Anthony  </td><td>A Santander   </td><td>⋯</td><td>.540</td><td>.851 </td><td> 0</td><td> 2</td><td>1.000</td><td> 5</td><td> 78</td><td>0.45</td><td>0</td><td>12.47</td></tr>\n",
       "\t<tr><th scope=row>21</th><td>2024</td><td>608369</td><td>Corey Seager         </td><td>player</td><td>19</td><td>Corey Seager         </td><td>Corey    </td><td>Seager    </td><td>Corey    </td><td>C Seager      </td><td>⋯</td><td>.496</td><td>.851 </td><td> 0</td><td> 1</td><td>1.000</td><td> 6</td><td> 57</td><td>0.70</td><td>0</td><td>16.12</td></tr>\n",
       "\t<tr><th scope=row>22</th><td>2024</td><td>682985</td><td>Riley Greene         </td><td>player</td><td>22</td><td>Riley Greene         </td><td>Riley    </td><td>Greene    </td><td>Riley    </td><td>R Greene      </td><td>⋯</td><td>.485</td><td>.842 </td><td> 1</td><td> 4</td><td>.800 </td><td> 1</td><td> 51</td><td>1.20</td><td>1</td><td>21.82</td></tr>\n",
       "\t<tr><th scope=row>23</th><td>2024</td><td>664761</td><td>Alec Bohm            </td><td>player</td><td>23</td><td>Alec Bohm            </td><td>Alec     </td><td>Bohm      </td><td>Alec     </td><td>A Bohm        </td><td>⋯</td><td>.483</td><td>.837 </td><td> 2</td><td> 5</td><td>.714 </td><td>11</td><td> 78</td><td>1.08</td><td>0</td><td>35.75</td></tr>\n",
       "\t<tr><th scope=row>24</th><td>2024</td><td>668804</td><td>Bryan Reynolds       </td><td>player</td><td>23</td><td>Bryan Reynolds       </td><td>Bryan    </td><td>Reynolds  </td><td>Bryan    </td><td>B Reynolds    </td><td>⋯</td><td>.482</td><td>.837 </td><td> 2</td><td> 6</td><td>.750 </td><td> 4</td><td> 67</td><td>1.22</td><td>0</td><td>23.05</td></tr>\n",
       "\t<tr><th scope=row>25</th><td>2024</td><td>606192</td><td>Teoscar Hernández    </td><td>player</td><td>25</td><td>Teoscar Hernández    </td><td>Teoscar  </td><td>Hernández </td><td>Teoscar  </td><td>T Hernández   </td><td>⋯</td><td>.501</td><td>.834 </td><td> 2</td><td> 5</td><td>.714 </td><td> 6</td><td> 74</td><td>1.11</td><td>1</td><td>17.24</td></tr>\n",
       "</tbody>\n",
       "</table>\n",
       "</dd>\n",
       "</dl>\n"
      ],
      "text/markdown": "$totalSplits\n:   140\n$playerPool\n:   'QUALIFIED'\n$stats\n:   \nA data.frame: 25 × 72\n\n| <!--/--> | year &lt;chr&gt; | playerId &lt;int&gt; | playerName &lt;chr&gt; | type &lt;chr&gt; | rank &lt;int&gt; | playerFullName &lt;chr&gt; | playerFirstName &lt;chr&gt; | playerLastName &lt;chr&gt; | playerUseName &lt;chr&gt; | playerInitLastName &lt;chr&gt; | ⋯ ⋯ | slg &lt;chr&gt; | ops &lt;chr&gt; | caughtStealing &lt;int&gt; | stolenBases &lt;int&gt; | stolenBasePercentage &lt;chr&gt; | groundIntoDoublePlay &lt;int&gt; | rbi &lt;int&gt; | groundOutsToAirouts &lt;chr&gt; | catchersInterference &lt;int&gt; | atBatsPerHomeRun &lt;chr&gt; |\n|---|---|---|---|---|---|---|---|---|---|---|---|---|---|---|---|---|---|---|---|---|---|\n| 1 | 2024 | 592450 | Aaron Judge           | player |  1 | Aaron Judge           | Aaron     | Judge      | Aaron     | A Judge        | ⋯ | .698 | 1.157 |  0 |  5 | 1.000 | 15 | 104 | 0.65 | 1 | 9.78  |\n| 2 | 2024 | 665742 | Juan Soto             | player |  2 | Juan Soto             | Juan      | Soto       | Juan      | J Soto         | ⋯ | .589 | 1.022 |  2 |  5 | .714  |  7 |  78 | 1.30 | 0 | 14.68 |\n| 3 | 2024 | 660271 | Shohei Ohtani         | player |  3 | Shohei Ohtani         | Shohei    | Ohtani     | Shohei    | S Ohtani       | ⋯ | .625 | 1.019 |  4 | 32 | .889  |  6 |  81 | 0.83 | 2 | 12.79 |\n| 4 | 2024 | 677951 | Bobby Witt Jr.        | player |  4 | Bobby Witt Jr.        | Robert    | Witt       | Bobby     | B Witt Jr.     | ⋯ | .606 | 1.000 | 10 | 25 | .714  |  3 |  84 | 0.54 | 0 | 21.09 |\n| 5 | 2024 | 646240 | Rafael Devers         | player |  5 | Rafael Devers         | Rafael    | Devers     | Rafael    | R Devers       | ⋯ | .602 | .987  |  0 |  2 | 1.000 | 10 |  70 | 1.06 | 0 | 15.36 |\n| 6 | 2024 | 667670 | Brent Rooker          | player |  6 | Brent Rooker          | Terry     | Rooker     | Brent     | B Rooker       | ⋯ | .584 | .952  |  1 |  7 | .875  |  3 |  81 | 0.59 | 0 | 13.14 |\n| 7 | 2024 | 542303 | Marcell Ozuna         | player |  7 | Marcell Ozuna         | Marcell   | Ozuna      | Marcell   | M Ozuna        | ⋯ | .575 | .946  |  0 |  0 | .---  | 16 |  86 | 0.82 | 0 | 13.16 |\n| 8 | 2024 | 683002 | Gunnar Henderson      | player |  8 | Gunnar Henderson      | Gunnar    | Henderson  | Gunnar    | G Henderson    | ⋯ | .557 | .931  |  2 | 14 | .875  |  2 |  69 | 1.16 | 0 | 15.48 |\n| 9 | 2024 | 665489 | Vladimir Guerrero Jr. | player |  9 | Vladimir Guerrero Jr. | Vladimir  | Guerrero   | Vladimir  | V Guerrero Jr. | ⋯ | .536 | .927  |  2 |  2 | .500  | 11 |  72 | 1.35 | 0 | 19.77 |\n| 10 | 2024 | 606466 | Ketel Marte           | player |  9 | Ketel Marte           | Ketel     | Marte      | Ketel     | K Marte        | ⋯ | .559 | .927  |  1 |  6 | .857  |  8 |  80 | 1.34 | 0 | 14.69 |\n| 11 | 2024 | 670541 | Yordan Alvarez        | player | 11 | Yordan Alvarez        | Yordan    | Alvarez    | Yordan    | Y Alvarez      | ⋯ | .536 | .922  |  0 |  5 | 1.000 | 10 |  58 | 0.48 | 0 | 18.50 |\n| 12 | 2024 | 547180 | Bryce Harper          | player | 12 | Bryce Harper          | Bryce     | Harper     | Bryce     | B Harper       | ⋯ | .541 | .911  |  4 |  5 | .556  | 12 |  69 | 0.73 | 0 | 15.00 |\n| 13 | 2024 | 595777 | Jurickson Profar      | player | 13 | Jurickson Profar      | Jurickson | Profar     | Jurickson | J Profar       | ⋯ | .490 | .884  |  2 |  5 | .714  | 11 |  71 | 0.99 | 0 | 21.05 |\n| 14 | 2024 | 518692 | Freddie Freeman       | player | 14 | Freddie Freeman       | Frederick | Freeman    | Freddie   | F Freeman      | ⋯ | .491 | .883  |  2 |  5 | .714  | 10 |  67 | 0.92 | 0 | 24.19 |\n| 15 | 2024 | 608070 | José Ramírez          | player | 14 | José Ramírez          | José      | Ramírez    | José      | J Ramírez      | ⋯ | .548 | .883  |  3 | 25 | .893  |  6 |  96 | 0.58 | 0 | 14.67 |\n| 16 | 2024 | 680757 | Steven Kwan           | player | 16 | Steven Kwan           | Steven    | Kwan       | Steven    | S Kwan         | ⋯ | .483 | .873  |  4 |  9 | .692  |  5 |  32 | 0.71 | 0 | 32.00 |\n| 17 | 2024 | 680776 | Jarren Duran          | player | 17 | Jarren Duran          | Jarren    | Duran      | Jarren    | J Duran        | ⋯ | .507 | .857  |  4 | 27 | .871  |  2 |  58 | 1.30 | 0 | 34.21 |\n| 18 | 2024 | 656941 | Kyle Schwarber        | player | 17 | Kyle Schwarber        | Kyle      | Schwarber  | Kyle      | K Schwarber    | ⋯ | .473 | .857  |  2 |  5 | .714  |  3 |  66 | 0.79 | 0 | 15.96 |\n| 19 | 2024 | 682829 | Elly De La Cruz       | player | 19 | Elly De La Cruz       | Elly      | De La Cruz | Elly      | E De La Cruz   | ⋯ | .500 | .851  | 11 | 58 | .841  |  9 |  50 | 1.21 | 0 | 21.30 |\n| 20 | 2024 | 623993 | Anthony Santander     | player | 19 | Anthony Santander     | Anthony   | Santander  | Anthony   | A Santander    | ⋯ | .540 | .851  |  0 |  2 | 1.000 |  5 |  78 | 0.45 | 0 | 12.47 |\n| 21 | 2024 | 608369 | Corey Seager          | player | 19 | Corey Seager          | Corey     | Seager     | Corey     | C Seager       | ⋯ | .496 | .851  |  0 |  1 | 1.000 |  6 |  57 | 0.70 | 0 | 16.12 |\n| 22 | 2024 | 682985 | Riley Greene          | player | 22 | Riley Greene          | Riley     | Greene     | Riley     | R Greene       | ⋯ | .485 | .842  |  1 |  4 | .800  |  1 |  51 | 1.20 | 1 | 21.82 |\n| 23 | 2024 | 664761 | Alec Bohm             | player | 23 | Alec Bohm             | Alec      | Bohm       | Alec      | A Bohm         | ⋯ | .483 | .837  |  2 |  5 | .714  | 11 |  78 | 1.08 | 0 | 35.75 |\n| 24 | 2024 | 668804 | Bryan Reynolds        | player | 23 | Bryan Reynolds        | Bryan     | Reynolds   | Bryan     | B Reynolds     | ⋯ | .482 | .837  |  2 |  6 | .750  |  4 |  67 | 1.22 | 0 | 23.05 |\n| 25 | 2024 | 606192 | Teoscar Hernández     | player | 25 | Teoscar Hernández     | Teoscar   | Hernández  | Teoscar   | T Hernández    | ⋯ | .501 | .834  |  2 |  5 | .714  |  6 |  74 | 1.11 | 1 | 17.24 |\n\n\n\n\n",
      "text/latex": "\\begin{description}\n\\item[\\$totalSplits] 140\n\\item[\\$playerPool] 'QUALIFIED'\n\\item[\\$stats] A data.frame: 25 × 72\n\\begin{tabular}{r|lllllllllllllllllllll}\n  & year & playerId & playerName & type & rank & playerFullName & playerFirstName & playerLastName & playerUseName & playerInitLastName & ⋯ & slg & ops & caughtStealing & stolenBases & stolenBasePercentage & groundIntoDoublePlay & rbi & groundOutsToAirouts & catchersInterference & atBatsPerHomeRun\\\\\n  & <chr> & <int> & <chr> & <chr> & <int> & <chr> & <chr> & <chr> & <chr> & <chr> & ⋯ & <chr> & <chr> & <int> & <int> & <chr> & <int> & <int> & <chr> & <int> & <chr>\\\\\n\\hline\n\t1 & 2024 & 592450 & Aaron Judge           & player &  1 & Aaron Judge           & Aaron     & Judge      & Aaron     & A Judge        & ⋯ & .698 & 1.157 &  0 &  5 & 1.000 & 15 & 104 & 0.65 & 1 & 9.78 \\\\\n\t2 & 2024 & 665742 & Juan Soto             & player &  2 & Juan Soto             & Juan      & Soto       & Juan      & J Soto         & ⋯ & .589 & 1.022 &  2 &  5 & .714  &  7 &  78 & 1.30 & 0 & 14.68\\\\\n\t3 & 2024 & 660271 & Shohei Ohtani         & player &  3 & Shohei Ohtani         & Shohei    & Ohtani     & Shohei    & S Ohtani       & ⋯ & .625 & 1.019 &  4 & 32 & .889  &  6 &  81 & 0.83 & 2 & 12.79\\\\\n\t4 & 2024 & 677951 & Bobby Witt Jr.        & player &  4 & Bobby Witt Jr.        & Robert    & Witt       & Bobby     & B Witt Jr.     & ⋯ & .606 & 1.000 & 10 & 25 & .714  &  3 &  84 & 0.54 & 0 & 21.09\\\\\n\t5 & 2024 & 646240 & Rafael Devers         & player &  5 & Rafael Devers         & Rafael    & Devers     & Rafael    & R Devers       & ⋯ & .602 & .987  &  0 &  2 & 1.000 & 10 &  70 & 1.06 & 0 & 15.36\\\\\n\t6 & 2024 & 667670 & Brent Rooker          & player &  6 & Brent Rooker          & Terry     & Rooker     & Brent     & B Rooker       & ⋯ & .584 & .952  &  1 &  7 & .875  &  3 &  81 & 0.59 & 0 & 13.14\\\\\n\t7 & 2024 & 542303 & Marcell Ozuna         & player &  7 & Marcell Ozuna         & Marcell   & Ozuna      & Marcell   & M Ozuna        & ⋯ & .575 & .946  &  0 &  0 & .---  & 16 &  86 & 0.82 & 0 & 13.16\\\\\n\t8 & 2024 & 683002 & Gunnar Henderson      & player &  8 & Gunnar Henderson      & Gunnar    & Henderson  & Gunnar    & G Henderson    & ⋯ & .557 & .931  &  2 & 14 & .875  &  2 &  69 & 1.16 & 0 & 15.48\\\\\n\t9 & 2024 & 665489 & Vladimir Guerrero Jr. & player &  9 & Vladimir Guerrero Jr. & Vladimir  & Guerrero   & Vladimir  & V Guerrero Jr. & ⋯ & .536 & .927  &  2 &  2 & .500  & 11 &  72 & 1.35 & 0 & 19.77\\\\\n\t10 & 2024 & 606466 & Ketel Marte           & player &  9 & Ketel Marte           & Ketel     & Marte      & Ketel     & K Marte        & ⋯ & .559 & .927  &  1 &  6 & .857  &  8 &  80 & 1.34 & 0 & 14.69\\\\\n\t11 & 2024 & 670541 & Yordan Alvarez        & player & 11 & Yordan Alvarez        & Yordan    & Alvarez    & Yordan    & Y Alvarez      & ⋯ & .536 & .922  &  0 &  5 & 1.000 & 10 &  58 & 0.48 & 0 & 18.50\\\\\n\t12 & 2024 & 547180 & Bryce Harper          & player & 12 & Bryce Harper          & Bryce     & Harper     & Bryce     & B Harper       & ⋯ & .541 & .911  &  4 &  5 & .556  & 12 &  69 & 0.73 & 0 & 15.00\\\\\n\t13 & 2024 & 595777 & Jurickson Profar      & player & 13 & Jurickson Profar      & Jurickson & Profar     & Jurickson & J Profar       & ⋯ & .490 & .884  &  2 &  5 & .714  & 11 &  71 & 0.99 & 0 & 21.05\\\\\n\t14 & 2024 & 518692 & Freddie Freeman       & player & 14 & Freddie Freeman       & Frederick & Freeman    & Freddie   & F Freeman      & ⋯ & .491 & .883  &  2 &  5 & .714  & 10 &  67 & 0.92 & 0 & 24.19\\\\\n\t15 & 2024 & 608070 & José Ramírez          & player & 14 & José Ramírez          & José      & Ramírez    & José      & J Ramírez      & ⋯ & .548 & .883  &  3 & 25 & .893  &  6 &  96 & 0.58 & 0 & 14.67\\\\\n\t16 & 2024 & 680757 & Steven Kwan           & player & 16 & Steven Kwan           & Steven    & Kwan       & Steven    & S Kwan         & ⋯ & .483 & .873  &  4 &  9 & .692  &  5 &  32 & 0.71 & 0 & 32.00\\\\\n\t17 & 2024 & 680776 & Jarren Duran          & player & 17 & Jarren Duran          & Jarren    & Duran      & Jarren    & J Duran        & ⋯ & .507 & .857  &  4 & 27 & .871  &  2 &  58 & 1.30 & 0 & 34.21\\\\\n\t18 & 2024 & 656941 & Kyle Schwarber        & player & 17 & Kyle Schwarber        & Kyle      & Schwarber  & Kyle      & K Schwarber    & ⋯ & .473 & .857  &  2 &  5 & .714  &  3 &  66 & 0.79 & 0 & 15.96\\\\\n\t19 & 2024 & 682829 & Elly De La Cruz       & player & 19 & Elly De La Cruz       & Elly      & De La Cruz & Elly      & E De La Cruz   & ⋯ & .500 & .851  & 11 & 58 & .841  &  9 &  50 & 1.21 & 0 & 21.30\\\\\n\t20 & 2024 & 623993 & Anthony Santander     & player & 19 & Anthony Santander     & Anthony   & Santander  & Anthony   & A Santander    & ⋯ & .540 & .851  &  0 &  2 & 1.000 &  5 &  78 & 0.45 & 0 & 12.47\\\\\n\t21 & 2024 & 608369 & Corey Seager          & player & 19 & Corey Seager          & Corey     & Seager     & Corey     & C Seager       & ⋯ & .496 & .851  &  0 &  1 & 1.000 &  6 &  57 & 0.70 & 0 & 16.12\\\\\n\t22 & 2024 & 682985 & Riley Greene          & player & 22 & Riley Greene          & Riley     & Greene     & Riley     & R Greene       & ⋯ & .485 & .842  &  1 &  4 & .800  &  1 &  51 & 1.20 & 1 & 21.82\\\\\n\t23 & 2024 & 664761 & Alec Bohm             & player & 23 & Alec Bohm             & Alec      & Bohm       & Alec      & A Bohm         & ⋯ & .483 & .837  &  2 &  5 & .714  & 11 &  78 & 1.08 & 0 & 35.75\\\\\n\t24 & 2024 & 668804 & Bryan Reynolds        & player & 23 & Bryan Reynolds        & Bryan     & Reynolds   & Bryan     & B Reynolds     & ⋯ & .482 & .837  &  2 &  6 & .750  &  4 &  67 & 1.22 & 0 & 23.05\\\\\n\t25 & 2024 & 606192 & Teoscar Hernández     & player & 25 & Teoscar Hernández     & Teoscar   & Hernández  & Teoscar   & T Hernández    & ⋯ & .501 & .834  &  2 &  5 & .714  &  6 &  74 & 1.11 & 1 & 17.24\\\\\n\\end{tabular}\n\n\\end{description}\n",
      "text/plain": [
       "$totalSplits\n",
       "[1] 140\n",
       "\n",
       "$playerPool\n",
       "[1] \"QUALIFIED\"\n",
       "\n",
       "$stats\n",
       "   year playerId            playerName   type rank        playerFullName\n",
       "1  2024   592450           Aaron Judge player    1           Aaron Judge\n",
       "2  2024   665742             Juan Soto player    2             Juan Soto\n",
       "3  2024   660271         Shohei Ohtani player    3         Shohei Ohtani\n",
       "4  2024   677951        Bobby Witt Jr. player    4        Bobby Witt Jr.\n",
       "5  2024   646240         Rafael Devers player    5         Rafael Devers\n",
       "6  2024   667670          Brent Rooker player    6          Brent Rooker\n",
       "7  2024   542303         Marcell Ozuna player    7         Marcell Ozuna\n",
       "8  2024   683002      Gunnar Henderson player    8      Gunnar Henderson\n",
       "9  2024   665489 Vladimir Guerrero Jr. player    9 Vladimir Guerrero Jr.\n",
       "10 2024   606466           Ketel Marte player    9           Ketel Marte\n",
       "11 2024   670541        Yordan Alvarez player   11        Yordan Alvarez\n",
       "12 2024   547180          Bryce Harper player   12          Bryce Harper\n",
       "13 2024   595777      Jurickson Profar player   13      Jurickson Profar\n",
       "14 2024   518692       Freddie Freeman player   14       Freddie Freeman\n",
       "15 2024   608070          José Ramírez player   14          José Ramírez\n",
       "16 2024   680757           Steven Kwan player   16           Steven Kwan\n",
       "17 2024   680776          Jarren Duran player   17          Jarren Duran\n",
       "18 2024   656941        Kyle Schwarber player   17        Kyle Schwarber\n",
       "19 2024   682829       Elly De La Cruz player   19       Elly De La Cruz\n",
       "20 2024   623993     Anthony Santander player   19     Anthony Santander\n",
       "21 2024   608369          Corey Seager player   19          Corey Seager\n",
       "22 2024   682985          Riley Greene player   22          Riley Greene\n",
       "23 2024   664761             Alec Bohm player   23             Alec Bohm\n",
       "24 2024   668804        Bryan Reynolds player   23        Bryan Reynolds\n",
       "25 2024   606192     Teoscar Hernández player   25     Teoscar Hernández\n",
       "   playerFirstName playerLastName playerUseName playerInitLastName teamId\n",
       "1            Aaron          Judge         Aaron            A Judge    147\n",
       "2             Juan           Soto          Juan             J Soto    147\n",
       "3           Shohei         Ohtani        Shohei           S Ohtani    119\n",
       "4           Robert           Witt         Bobby         B Witt Jr.    118\n",
       "5           Rafael         Devers        Rafael           R Devers    111\n",
       "6            Terry         Rooker         Brent           B Rooker    133\n",
       "7          Marcell          Ozuna       Marcell            M Ozuna    144\n",
       "8           Gunnar      Henderson        Gunnar        G Henderson    110\n",
       "9         Vladimir       Guerrero      Vladimir     V Guerrero Jr.    141\n",
       "10           Ketel          Marte         Ketel            K Marte    109\n",
       "11          Yordan        Alvarez        Yordan          Y Alvarez    117\n",
       "12           Bryce         Harper         Bryce           B Harper    143\n",
       "13       Jurickson         Profar     Jurickson           J Profar    135\n",
       "14       Frederick        Freeman       Freddie          F Freeman    119\n",
       "15            José        Ramírez          José          J Ramírez    114\n",
       "16          Steven           Kwan        Steven             S Kwan    114\n",
       "17          Jarren          Duran        Jarren            J Duran    111\n",
       "18            Kyle      Schwarber          Kyle        K Schwarber    143\n",
       "19            Elly     De La Cruz          Elly       E De La Cruz    113\n",
       "20         Anthony      Santander       Anthony        A Santander    110\n",
       "21           Corey         Seager         Corey           C Seager    140\n",
       "22           Riley         Greene         Riley           R Greene    116\n",
       "23            Alec           Bohm          Alec             A Bohm    143\n",
       "24           Bryan       Reynolds         Bryan         B Reynolds    134\n",
       "25         Teoscar      Hernández       Teoscar        T Hernández    119\n",
       "   teamAbbrev              teamName teamShortName leagueName leagueId\n",
       "1         NYY      New York Yankees       Yankees         AL      103\n",
       "2         NYY      New York Yankees       Yankees         AL      103\n",
       "3         LAD   Los Angeles Dodgers       Dodgers         NL      104\n",
       "4          KC    Kansas City Royals        Royals         AL      103\n",
       "5         BOS        Boston Red Sox       Red Sox         AL      103\n",
       "6         OAK     Oakland Athletics     Athletics         AL      103\n",
       "7         ATL        Atlanta Braves        Braves         NL      104\n",
       "8         BAL     Baltimore Orioles       Orioles         AL      103\n",
       "9         TOR     Toronto Blue Jays     Blue Jays         AL      103\n",
       "10         AZ  Arizona Diamondbacks       D-backs         NL      104\n",
       "11        HOU        Houston Astros        Astros         AL      103\n",
       "12        PHI Philadelphia Phillies      Phillies         NL      104\n",
       "13         SD      San Diego Padres        Padres         NL      104\n",
       "14        LAD   Los Angeles Dodgers       Dodgers         NL      104\n",
       "15        CLE   Cleveland Guardians     Guardians         AL      103\n",
       "16        CLE   Cleveland Guardians     Guardians         AL      103\n",
       "17        BOS        Boston Red Sox       Red Sox         AL      103\n",
       "18        PHI Philadelphia Phillies      Phillies         NL      104\n",
       "19        CIN       Cincinnati Reds          Reds         NL      104\n",
       "20        BAL     Baltimore Orioles       Orioles         AL      103\n",
       "21        TEX         Texas Rangers       Rangers         AL      103\n",
       "22        DET        Detroit Tigers        Tigers         AL      103\n",
       "23        PHI Philadelphia Phillies      Phillies         NL      104\n",
       "24        PIT    Pittsburgh Pirates       Pirates         NL      104\n",
       "25        LAD   Los Angeles Dodgers       Dodgers         NL      104\n",
       "   positionAbbrev          position primaryPositionAbbrev plateAppearances\n",
       "1              CF        Outfielder                    CF              506\n",
       "2              RF        Outfielder                    RF              510\n",
       "3              DH Designated Hitter                   TWP              507\n",
       "4              SS         Shortstop                    SS              510\n",
       "5              3B        Third Base                    3B              442\n",
       "6              DH Designated Hitter                    LF              418\n",
       "7              DH Designated Hitter                    DH              477\n",
       "8              SS         Shortstop                    SS              514\n",
       "9              1B        First Base                    1B              493\n",
       "10             2B       Second Base                    2B              487\n",
       "11             DH Designated Hitter                    LF              469\n",
       "12             1B        First Base                    1B              433\n",
       "13             LF        Outfielder                    LF              467\n",
       "14             1B        First Base                    1B              464\n",
       "15             3B        Third Base                    3B              481\n",
       "16             LF        Outfielder                    LF              387\n",
       "17             CF        Outfielder                    LF              527\n",
       "18             DH Designated Hitter                    DH              474\n",
       "19             SS         Shortstop                    SS              484\n",
       "20             RF        Outfielder                    RF              469\n",
       "21             SS         Shortstop                    SS              439\n",
       "22             LF        Outfielder                    LF              427\n",
       "23             3B        Third Base                    3B              475\n",
       "24             LF        Outfielder                    LF              487\n",
       "25             LF        Outfielder                    CF              475\n",
       "   totalBases leftOnBase sacBunts sacFlies babip extraBaseHits hitByPitch gidp\n",
       "1         280        169        0        2  .372            67          7   15\n",
       "2         242        131        0        4  .319            56          2    7\n",
       "3         272        174        0        4  .340            67          3    6\n",
       "4         281        124        0        7  .377            65          5    3\n",
       "5         231        172        0        5  .350            59          2   10\n",
       "6         215        148        0        3  .361            50          4    3\n",
       "7         242        169        0        4  .336            53          3   16\n",
       "8         250        142        0        2  .328            57          6    2\n",
       "9         233        170        0        3  .339            51          4   11\n",
       "10        238        137        0        9  .306            51          3    8\n",
       "11        218        172        0        3  .314            50          8   10\n",
       "12        203        156        0        2  .307            49          0   12\n",
       "13        196        136        2        2  .322            38          9   11\n",
       "14        190        181        0        6  .310            45         10   10\n",
       "15        241        169        0        4  .266            56          1    6\n",
       "16        170         92        2        0  .345            28          3    5\n",
       "17        243        153        1        3  .357            62          4    2\n",
       "18        181        129        0        6  .312            36          4    3\n",
       "19        213        157        2        0  .359            53          6    9\n",
       "20        229        197        0        4  .231            54          7    5\n",
       "21        192        118        0        2  .285            38          3    6\n",
       "22        180        129        0        1  .329            43          3    1\n",
       "23        207        175        0        6  .327            53          5   11\n",
       "24        211        160        0        2  .342            44          5    4\n",
       "25        216        216        0        1  .329            49          5    6\n",
       "   gidpOpp numberOfPitches pitchesPerPlateAppearance walksPerPlateAppearance\n",
       "1       88            2069                     4.089                    .188\n",
       "2       62            2095                     4.108                    .182\n",
       "3       65            1996                     3.937                    .124\n",
       "4       62            1867                     3.661                    .067\n",
       "5       59            1740                     3.937                    .115\n",
       "6       44            1653                     3.955                    .103\n",
       "7       56            1983                     4.157                    .103\n",
       "8       47            2056                     4.000                    .111\n",
       "9       65            1877                     3.807                    .103\n",
       "10      54            1735                     3.563                    .101\n",
       "11      77            1671                     3.563                    .109\n",
       "12      75            1683                     3.887                    .129\n",
       "13      68            1915                     4.101                    .116\n",
       "14      67            1804                     3.888                    .131\n",
       "15      86            1894                     3.938                    .075\n",
       "16      44            1536                     3.969                    .078\n",
       "17      39            2084                     3.954                    .076\n",
       "18      29            1972                     4.160                    .171\n",
       "19      60            1946                     4.021                    .103\n",
       "20      74            1885                     4.019                    .072\n",
       "21      59            1544                     3.517                    .107\n",
       "22      43            1756                     4.112                    .119\n",
       "23      69            1659                     3.493                    .074\n",
       "24      76            1854                     3.807                    .086\n",
       "25      58            1903                     4.006                    .078\n",
       "   strikeoutsPerPlateAppearance homeRunsPerPlateAppearance walksPerStrikeout\n",
       "1                          .243                       .081              .772\n",
       "2                          .157                       .055             1.163\n",
       "3                          .225                       .067              .553\n",
       "4                          .153                       .043              .436\n",
       "5                          .229                       .057              .505\n",
       "6                          .297                       .067              .347\n",
       "7                          .243                       .067              .422\n",
       "8                          .228                       .056              .487\n",
       "9                          .150                       .045              .689\n",
       "10                         .177                       .060              .570\n",
       "11                         .149                       .047              .729\n",
       "12                         .219                       .058              .589\n",
       "13                         .148                       .041              .783\n",
       "14                         .153                       .034              .859\n",
       "15                         .125                       .062              .600\n",
       "16                         .088                       .028              .882\n",
       "17                         .218                       .027              .348\n",
       "18                         .276                       .051              .618\n",
       "19                         .304                       .041              .340\n",
       "20                         .183                       .072              .395\n",
       "21                         .175                       .055              .610\n",
       "22                         .255                       .040              .468\n",
       "23                         .143                       .025              .515\n",
       "24                         .222                       .039              .389\n",
       "25                         .274                       .053              .285\n",
       "    iso reachedOnError walkOffs flyOuts totalSwings swingAndMisses ballsInPlay\n",
       "1  .374              5        0      62         860            276         280\n",
       "2  .282              2        0      53         774            170         335\n",
       "3  .320              4        1      60         932            279         325\n",
       "4  .256              4        0      87         947            207         393\n",
       "5  .297              2        1      43         882            255         288\n",
       "6  .293              2        0      50         806            265         247\n",
       "7  .278              0        0      62         935            289         309\n",
       "8  .269              2        0      49         899            222         334\n",
       "9  .218              2        0      43         894            199         364\n",
       "10 .261              4        0      53         844            184         349\n",
       "11 .236              2        0      99         786            160         340\n",
       "12 .264              2        1      64         863            248         282\n",
       "13 .190              0        1      61         860            147         335\n",
       "14 .204              2        0      72         877            178         322\n",
       "15 .266              1        0      87         933            147         384\n",
       "16 .151              2        0      69         612             46         320\n",
       "17 .215              7        1      48         973            239         368\n",
       "18 .219              2        0      53         750            240         258\n",
       "19 .235              6        0      48         818            271         281\n",
       "20 .292              1        0      80         944            182         342\n",
       "21 .222              0        0      77         810            187         312\n",
       "22 .221              3        0      49         753            198         263\n",
       "23 .184              3        0      68         804            142         367\n",
       "24 .194              6        0      57         913            265         332\n",
       "25 .232              7        1      49         988            335         302\n",
       "   popOuts lineOuts groundOuts flyHits popHits lineHits groundHits gamesPlayed\n",
       "1       10       19         59      49       0       50         31         113\n",
       "2       15       23        118      37       0       54         35         111\n",
       "3       14       31         87      43       0       55         35         111\n",
       "4       30       33         81      28       0       70         64         116\n",
       "5       22       18         88      36       0       56         25         101\n",
       "6       22       16         52      36       2       45         24         101\n",
       "7       10       29         83      41       1       52         31         113\n",
       "8       15       31        110      31       0       51         47         113\n",
       "9       14       39        130      27       0       64         47         113\n",
       "10      16       26        127      27       1       52         47         110\n",
       "11      22       26         71      28       0       52         42         109\n",
       "12      11       28         75      30       0       44         30          98\n",
       "13      21       26        107      22       0       60         38         113\n",
       "14       7       31        101      27       0       58         26         106\n",
       "15      44       34         95      31       0       54         39         111\n",
       "16      17       33         84      17       0       59         41          88\n",
       "17      17       34        129      30       2       60         48         113\n",
       "18      18       19         71      23       1       42         31         102\n",
       "19      11       17         92      22       0       51         40         112\n",
       "20      51       33         73      35       1       48         21         110\n",
       "21      11       33         85      25       0       41         40         102\n",
       "22       8       18         90      28       0       41         29         101\n",
       "23      19       28        124      19       0       67         42         111\n",
       "24       9       27        113      30       0       52         44         109\n",
       "25      13       26         98      32       1       39         44         112\n",
       "   airOuts runs doubles triples homeRuns strikeOuts baseOnBalls\n",
       "1       91   88      25       1       41        123          95\n",
       "2       91   93      24       4       28         80          93\n",
       "3      105   86      29       4       34        114          63\n",
       "4      150   99      33      10       22         78          34\n",
       "5       83   74      29       5       25        101          51\n",
       "6       88   56      20       2       28        124          43\n",
       "7      101   69      21       0       32        116          49\n",
       "8       95   93      22       6       29        117          57\n",
       "9       96   66      29       0       22         74          51\n",
       "10      95   79      20       2       29         86          49\n",
       "11     147   63      26       2       22         70          51\n",
       "12     103   62      24       0       25         95          56\n",
       "13     108   65      19       0       19         69          54\n",
       "14     110   63      27       2       16         71          61\n",
       "15     165   85      25       1       30         60          36\n",
       "16     119   65      14       3       11         34          30\n",
       "17      99   78      35      13       14        115          40\n",
       "18      90   76      12       0       24        131          81\n",
       "19      76   75      26       7       20        147          50\n",
       "20     164   70      18       2       34         86          34\n",
       "21     121   57      14       0       24         77          47\n",
       "22      75   57      21       5       17        109          51\n",
       "23     115   51      39       2       12         68          35\n",
       "24      93   51      22       3       19        108          42\n",
       "25      88   60      23       1       25        130          37\n",
       "   intentionalWalks hits  avg atBats  obp  slg   ops caughtStealing stolenBases\n",
       "1                12  130 .324    401 .459 .698 1.157              0           5\n",
       "2                 0  126 .307    411 .433 .589 1.022              2           5\n",
       "3                 7  133 .306    435 .394 .625 1.019              4          32\n",
       "4                 4  162 .349    464 .394 .606 1.000             10          25\n",
       "5                11  117 .305    384 .385 .602  .987              0           2\n",
       "6                 2  107 .291    368 .368 .584  .952              1           7\n",
       "7                 1  125 .297    421 .371 .575  .946              0           0\n",
       "8                 1  129 .287    449 .374 .557  .931              2          14\n",
       "9                 4  138 .317    435 .391 .536  .927              2           2\n",
       "10                6  127 .298    426 .368 .559  .927              1           6\n",
       "11               11  122 .300    407 .386 .536  .922              0           5\n",
       "12                9  104 .277    375 .370 .541  .911              4           5\n",
       "13                3  120 .300    400 .394 .490  .884              2           5\n",
       "14                7  111 .287    387 .392 .491  .883              2           5\n",
       "15                9  124 .282    440 .335 .548  .883              3          25\n",
       "16                0  117 .332    352 .390 .483  .873              4           9\n",
       "17                0  140 .292    479 .350 .507  .857              4          27\n",
       "18                3   97 .253    383 .384 .473  .857              2           5\n",
       "19                1  113 .265    426 .351 .500  .851             11          58\n",
       "20                0  105 .248    424 .311 .540  .851              0           2\n",
       "21               10  106 .274    387 .355 .496  .851              0           1\n",
       "22                3   98 .264    371 .357 .485  .842              1           4\n",
       "23                2  128 .298    429 .354 .483  .837              2           5\n",
       "24                1  126 .288    438 .355 .482  .837              2           6\n",
       "25                1  116 .269    431 .333 .501  .834              2           5\n",
       "   stolenBasePercentage groundIntoDoublePlay rbi groundOutsToAirouts\n",
       "1                 1.000                   15 104                0.65\n",
       "2                  .714                    7  78                1.30\n",
       "3                  .889                    6  81                0.83\n",
       "4                  .714                    3  84                0.54\n",
       "5                 1.000                   10  70                1.06\n",
       "6                  .875                    3  81                0.59\n",
       "7                  .---                   16  86                0.82\n",
       "8                  .875                    2  69                1.16\n",
       "9                  .500                   11  72                1.35\n",
       "10                 .857                    8  80                1.34\n",
       "11                1.000                   10  58                0.48\n",
       "12                 .556                   12  69                0.73\n",
       "13                 .714                   11  71                0.99\n",
       "14                 .714                   10  67                0.92\n",
       "15                 .893                    6  96                0.58\n",
       "16                 .692                    5  32                0.71\n",
       "17                 .871                    2  58                1.30\n",
       "18                 .714                    3  66                0.79\n",
       "19                 .841                    9  50                1.21\n",
       "20                1.000                    5  78                0.45\n",
       "21                1.000                    6  57                0.70\n",
       "22                 .800                    1  51                1.20\n",
       "23                 .714                   11  78                1.08\n",
       "24                 .750                    4  67                1.22\n",
       "25                 .714                    6  74                1.11\n",
       "   catchersInterference atBatsPerHomeRun\n",
       "1                     1             9.78\n",
       "2                     0            14.68\n",
       "3                     2            12.79\n",
       "4                     0            21.09\n",
       "5                     0            15.36\n",
       "6                     0            13.14\n",
       "7                     0            13.16\n",
       "8                     0            15.48\n",
       "9                     0            19.77\n",
       "10                    0            14.69\n",
       "11                    0            18.50\n",
       "12                    0            15.00\n",
       "13                    0            21.05\n",
       "14                    0            24.19\n",
       "15                    0            14.67\n",
       "16                    0            32.00\n",
       "17                    0            34.21\n",
       "18                    0            15.96\n",
       "19                    0            21.30\n",
       "20                    0            12.47\n",
       "21                    0            16.12\n",
       "22                    1            21.82\n",
       "23                    0            35.75\n",
       "24                    0            23.05\n",
       "25                    1            17.24\n"
      ]
     },
     "metadata": {},
     "output_type": "display_data"
    }
   ],
   "execution_count": 4
  },
  {
   "metadata": {},
   "cell_type": "markdown",
   "source": "### Farmacias San Pablo",
   "id": "fa6eeee8eeba984e"
  },
  {
   "metadata": {
    "ExecuteTime": {
     "end_time": "2024-08-08T02:14:30.542809Z",
     "start_time": "2024-08-08T02:14:30.532977Z"
    }
   },
   "cell_type": "code",
   "source": "urlfarmacias<-\"https://api.farmaciasanpablo.com.mx/rest/v2/fsp/products/search?fields=products(basePrice(FULL)%2CgtmProperties(FULL)%2CcategoryRestricted%2CadditionalDescription%2Cimages(FULL)%2CpotentialPromotions(FULL)%2CisApegoProduct%2Cprice(FULL)%2CapegoMechanic(FULL)%2Curl%2Ccategories(FULL)%2CfspMetaTitle%2CfspMetaDescription%2CfspMetaKeywords%2Ccode%2Cname%2Csummary%2Cconfigurable%2CconfiguratorType%2Cprice(FULL)%2Cimages(FULL)%2Cstock(FULL)%2CaverageRating%2CvariantOptions)%2Cfacets%2Cbreadcrumbs%2Cpagination(DEFAULT)%2Csorts(DEFAULT)%2CfreeTextSearch%2CcurrentQuery&query=aspirina&pageSize=12&lang=es_MX&curr=MXN\"",
   "id": "752fb12b3afe6a22",
   "outputs": [],
   "execution_count": 5
  },
  {
   "metadata": {
    "ExecuteTime": {
     "end_time": "2024-08-08T02:14:31.200711Z",
     "start_time": "2024-08-08T02:14:30.546130Z"
    }
   },
   "cell_type": "code",
   "source": [
    "#Obtener datos de r\n",
    "r <- GET(urlfarmacias, user_agent(\"Mozilla/5.0 (Windows NT 10.0; Win64; x64) AppleWebKit/537.36 (KHTML, like Gecko) Chrome/127.0.0.0 Safari/537.36\"))\n",
    "r$status_code"
   ],
   "id": "9d0f751d511570af",
   "outputs": [
    {
     "data": {
      "text/html": [
       "200"
      ],
      "text/markdown": "200",
      "text/latex": "200",
      "text/plain": [
       "[1] 200"
      ]
     },
     "metadata": {},
     "output_type": "display_data"
    }
   ],
   "execution_count": 6
  },
  {
   "metadata": {
    "ExecuteTime": {
     "end_time": "2024-08-08T02:14:31.290570Z",
     "start_time": "2024-08-08T02:14:31.204090Z"
    }
   },
   "cell_type": "code",
   "source": [
    "products <- content(r, \"parsed\")$products\n",
    "\n",
    "products_df <- map_df(products, ~as.data.frame(t(.))%>%\n",
    "select(name, price, additionalDescription) %>%\n",
    "  rename(producto = name, precio = price) %>%\n",
    "  mutate(\n",
    "    producto = as.character(producto),\n",
    "    additionalDescription = as.character(additionalDescription),\n",
    "    precio = as.numeric(sapply(precio, function(x) x$value)) \n",
    "  ))\n",
    "\n",
    "products_df"
   ],
   "id": "a7e708056a9de169",
   "outputs": [
    {
     "data": {
      "text/html": [
       "<table class=\"dataframe\">\n",
       "<caption>A data.frame: 12 × 3</caption>\n",
       "<thead>\n",
       "\t<tr><th scope=col>producto</th><th scope=col>precio</th><th scope=col>additionalDescription</th></tr>\n",
       "\t<tr><th scope=col>&lt;chr&gt;</th><th scope=col>&lt;dbl&gt;</th><th scope=col>&lt;chr&gt;</th></tr>\n",
       "</thead>\n",
       "<tbody>\n",
       "\t<tr><td>Ácido acetilsalicílico 500.0 MG                                                       </td><td> 14.0</td><td>Aurax 20 Tabletas Caja                                   </td></tr>\n",
       "\t<tr><td>Ácido acetilsalicílico 100 MG                                                         </td><td> 28.0</td><td>Aurax 30 Tabletas Caja                                   </td></tr>\n",
       "\t<tr><td>Aspirina Para Dolor de Cabeza, Fiebre y Reumatismo                                    </td><td> 33.0</td><td>20 Tabletas Caja Ácido acetilsalicílico 500.0 MG         </td></tr>\n",
       "\t<tr><td>Ácido acetilsalicílico 100 MG                                                         </td><td> 57.0</td><td>Aurax 60 Tabletas Caja                                   </td></tr>\n",
       "\t<tr><td>Aspirina Advanced                                                                     </td><td> 65.0</td><td>20 Tableta Caja Ácido acetilsalicílico 500 MG            </td></tr>\n",
       "\t<tr><td>Aspirina Junior Alivio del Dolor y Fiebre                                             </td><td> 90.5</td><td>60 Tableta Caja Ácido acetilsalicílico 100 MG            </td></tr>\n",
       "\t<tr><td>Aspirina Efervescente para Dolor, Fiebre y Reumatismo                                 </td><td> 42.0</td><td>12 Tableta Caja Ácido acetilsalicílico 500 MG            </td></tr>\n",
       "\t<tr><td>Aspirina Para Dolor de Cabeza, Fiebre y Reumatismo                                    </td><td> 48.5</td><td>40 Tableta Caja Ácido acetilsalicílico 500 MG            </td></tr>\n",
       "\t<tr><td>Flanax 550 mg Desinflama y Alivia Dolor Intenso Muscular, de Espalda, Cuello y Hombros</td><td>208.0</td><td>12 Tableta Caja Naproxeno 550 MG                         </td></tr>\n",
       "\t<tr><td>Cafiaspirina Alivio de Dolores Severos de Cabeza y Muelas                             </td><td> 59.0</td><td>40 Tableta Caja Ácido acetilsalicílico 500 MG            </td></tr>\n",
       "\t<tr><td>Aspirina Efervescente                                                                 </td><td>176.5</td><td>60 Tabletas Tabletas Caja Ácido acetilsalicílico 500.0 MG</td></tr>\n",
       "\t<tr><td>Aspirina Sabor Naranja - Soda Go                                                      </td><td> 89.0</td><td>10 Sobre Granulado Caja Ácido acetilsalicílico 500.0 MG  </td></tr>\n",
       "</tbody>\n",
       "</table>\n"
      ],
      "text/markdown": "\nA data.frame: 12 × 3\n\n| producto &lt;chr&gt; | precio &lt;dbl&gt; | additionalDescription &lt;chr&gt; |\n|---|---|---|\n| Ácido acetilsalicílico 500.0 MG                                                        |  14.0 | Aurax 20 Tabletas Caja                                    |\n| Ácido acetilsalicílico 100 MG                                                          |  28.0 | Aurax 30 Tabletas Caja                                    |\n| Aspirina Para Dolor de Cabeza, Fiebre y Reumatismo                                     |  33.0 | 20 Tabletas Caja Ácido acetilsalicílico 500.0 MG          |\n| Ácido acetilsalicílico 100 MG                                                          |  57.0 | Aurax 60 Tabletas Caja                                    |\n| Aspirina Advanced                                                                      |  65.0 | 20 Tableta Caja Ácido acetilsalicílico 500 MG             |\n| Aspirina Junior Alivio del Dolor y Fiebre                                              |  90.5 | 60 Tableta Caja Ácido acetilsalicílico 100 MG             |\n| Aspirina Efervescente para Dolor, Fiebre y Reumatismo                                  |  42.0 | 12 Tableta Caja Ácido acetilsalicílico 500 MG             |\n| Aspirina Para Dolor de Cabeza, Fiebre y Reumatismo                                     |  48.5 | 40 Tableta Caja Ácido acetilsalicílico 500 MG             |\n| Flanax 550 mg Desinflama y Alivia Dolor Intenso Muscular, de Espalda, Cuello y Hombros | 208.0 | 12 Tableta Caja Naproxeno 550 MG                          |\n| Cafiaspirina Alivio de Dolores Severos de Cabeza y Muelas                              |  59.0 | 40 Tableta Caja Ácido acetilsalicílico 500 MG             |\n| Aspirina Efervescente                                                                  | 176.5 | 60 Tabletas Tabletas Caja Ácido acetilsalicílico 500.0 MG |\n| Aspirina Sabor Naranja - Soda Go                                                       |  89.0 | 10 Sobre Granulado Caja Ácido acetilsalicílico 500.0 MG   |\n\n",
      "text/latex": "A data.frame: 12 × 3\n\\begin{tabular}{lll}\n producto & precio & additionalDescription\\\\\n <chr> & <dbl> & <chr>\\\\\n\\hline\n\t Ácido acetilsalicílico 500.0 MG                                                        &  14.0 & Aurax 20 Tabletas Caja                                   \\\\\n\t Ácido acetilsalicílico 100 MG                                                          &  28.0 & Aurax 30 Tabletas Caja                                   \\\\\n\t Aspirina Para Dolor de Cabeza, Fiebre y Reumatismo                                     &  33.0 & 20 Tabletas Caja Ácido acetilsalicílico 500.0 MG         \\\\\n\t Ácido acetilsalicílico 100 MG                                                          &  57.0 & Aurax 60 Tabletas Caja                                   \\\\\n\t Aspirina Advanced                                                                      &  65.0 & 20 Tableta Caja Ácido acetilsalicílico 500 MG            \\\\\n\t Aspirina Junior Alivio del Dolor y Fiebre                                              &  90.5 & 60 Tableta Caja Ácido acetilsalicílico 100 MG            \\\\\n\t Aspirina Efervescente para Dolor, Fiebre y Reumatismo                                  &  42.0 & 12 Tableta Caja Ácido acetilsalicílico 500 MG            \\\\\n\t Aspirina Para Dolor de Cabeza, Fiebre y Reumatismo                                     &  48.5 & 40 Tableta Caja Ácido acetilsalicílico 500 MG            \\\\\n\t Flanax 550 mg Desinflama y Alivia Dolor Intenso Muscular, de Espalda, Cuello y Hombros & 208.0 & 12 Tableta Caja Naproxeno 550 MG                         \\\\\n\t Cafiaspirina Alivio de Dolores Severos de Cabeza y Muelas                              &  59.0 & 40 Tableta Caja Ácido acetilsalicílico 500 MG            \\\\\n\t Aspirina Efervescente                                                                  & 176.5 & 60 Tabletas Tabletas Caja Ácido acetilsalicílico 500.0 MG\\\\\n\t Aspirina Sabor Naranja - Soda Go                                                       &  89.0 & 10 Sobre Granulado Caja Ácido acetilsalicílico 500.0 MG  \\\\\n\\end{tabular}\n",
      "text/plain": [
       "   producto                                                                              \n",
       "1  Ácido acetilsalicílico 500.0 MG                                                       \n",
       "2  Ácido acetilsalicílico 100 MG                                                         \n",
       "3  Aspirina Para Dolor de Cabeza, Fiebre y Reumatismo                                    \n",
       "4  Ácido acetilsalicílico 100 MG                                                         \n",
       "5  Aspirina Advanced                                                                     \n",
       "6  Aspirina Junior Alivio del Dolor y Fiebre                                             \n",
       "7  Aspirina Efervescente para Dolor, Fiebre y Reumatismo                                 \n",
       "8  Aspirina Para Dolor de Cabeza, Fiebre y Reumatismo                                    \n",
       "9  Flanax 550 mg Desinflama y Alivia Dolor Intenso Muscular, de Espalda, Cuello y Hombros\n",
       "10 Cafiaspirina Alivio de Dolores Severos de Cabeza y Muelas                             \n",
       "11 Aspirina Efervescente                                                                 \n",
       "12 Aspirina Sabor Naranja - Soda Go                                                      \n",
       "   precio additionalDescription                                    \n",
       "1   14.0  Aurax 20 Tabletas Caja                                   \n",
       "2   28.0  Aurax 30 Tabletas Caja                                   \n",
       "3   33.0  20 Tabletas Caja Ácido acetilsalicílico 500.0 MG         \n",
       "4   57.0  Aurax 60 Tabletas Caja                                   \n",
       "5   65.0  20 Tableta Caja Ácido acetilsalicílico 500 MG            \n",
       "6   90.5  60 Tableta Caja Ácido acetilsalicílico 100 MG            \n",
       "7   42.0  12 Tableta Caja Ácido acetilsalicílico 500 MG            \n",
       "8   48.5  40 Tableta Caja Ácido acetilsalicílico 500 MG            \n",
       "9  208.0  12 Tableta Caja Naproxeno 550 MG                         \n",
       "10  59.0  40 Tableta Caja Ácido acetilsalicílico 500 MG            \n",
       "11 176.5  60 Tabletas Tabletas Caja Ácido acetilsalicílico 500.0 MG\n",
       "12  89.0  10 Sobre Granulado Caja Ácido acetilsalicílico 500.0 MG  "
      ]
     },
     "metadata": {},
     "output_type": "display_data"
    }
   ],
   "execution_count": 7
  },
  {
   "metadata": {},
   "cell_type": "markdown",
   "source": "# Ejemplos de obtención de información de la API del Sistema Nacional de Información e Indicadores de Vivienda",
   "id": "f210689eaa3eb22f"
  },
  {
   "cell_type": "code",
   "id": "initial_id",
   "metadata": {
    "collapsed": true,
    "ExecuteTime": {
     "end_time": "2024-08-08T02:14:31.303247Z",
     "start_time": "2024-08-08T02:14:31.293920Z"
    }
   },
   "source": [
    "##Borrar datos del entorno\n",
    "rm(list=ls())"
   ],
   "outputs": [],
   "execution_count": 8
  },
  {
   "metadata": {
    "ExecuteTime": {
     "end_time": "2024-08-08T02:14:31.909805Z",
     "start_time": "2024-08-08T02:14:31.306381Z"
    }
   },
   "cell_type": "code",
   "source": [
    "if(!require('pacman')) install.packages('pacman')\n",
    "pacman::p_load(tidyverse,janitor,\n",
    "               httr,showtext, jsonlite)\n",
    "#Fuente para los gráficos\n",
    "font_add_google(\"Poppins\", \"pop\")\n",
    "showtext_auto()"
   ],
   "id": "9eab417d273f5508",
   "outputs": [],
   "execution_count": 9
  },
  {
   "metadata": {},
   "cell_type": "markdown",
   "source": "### Obtener financiamientos",
   "id": "89bab404fd35f6eb"
  },
  {
   "metadata": {
    "ExecuteTime": {
     "end_time": "2024-08-08T02:14:31.922956Z",
     "start_time": "2024-08-08T02:14:31.913355Z"
    }
   },
   "cell_type": "code",
   "source": "urlfin<-\"https://sniiv.sedatu.gob.mx/api/CuboAPI/GetFinanciamiento/2024,2024/0/0/organismo,modalidad,tipo_credito\"",
   "id": "a407391788f0d728",
   "outputs": [],
   "execution_count": 10
  },
  {
   "metadata": {
    "ExecuteTime": {
     "end_time": "2024-08-08T02:14:32.813405Z",
     "start_time": "2024-08-08T02:14:31.926301Z"
    }
   },
   "cell_type": "code",
   "source": [
    "#Obtener datos de r\n",
    "r <- GET(urlfin, timeout(10000))\n",
    "r$status_code"
   ],
   "id": "a88be8717013edf5",
   "outputs": [
    {
     "data": {
      "text/html": [
       "200"
      ],
      "text/markdown": "200",
      "text/latex": "200",
      "text/plain": [
       "[1] 200"
      ]
     },
     "metadata": {},
     "output_type": "display_data"
    }
   ],
   "execution_count": 11
  },
  {
   "metadata": {
    "ExecuteTime": {
     "end_time": "2024-08-08T02:14:32.829152Z",
     "start_time": "2024-08-08T02:14:32.819623Z"
    }
   },
   "cell_type": "code",
   "source": [
    "#Mostrar datos de la respuesta en un json\n",
    "#rawToChar(r$content)"
   ],
   "id": "6d3ebb451abf1f9a",
   "outputs": [],
   "execution_count": 12
  },
  {
   "metadata": {
    "ExecuteTime": {
     "end_time": "2024-08-08T02:14:32.863435Z",
     "start_time": "2024-08-08T02:14:32.832499Z"
    }
   },
   "cell_type": "code",
   "source": [
    "df<- fromJSON(rawToChar(r$content))\n",
    "df"
   ],
   "id": "c30145731edf6af",
   "outputs": [
    {
     "data": {
      "text/html": [
       "<table class=\"dataframe\">\n",
       "<caption>A data.frame: 29 × 6</caption>\n",
       "<thead>\n",
       "\t<tr><th></th><th scope=col>año</th><th scope=col>organismo</th><th scope=col>modalidad</th><th scope=col>tipo_credito</th><th scope=col>acciones</th><th scope=col>monto</th></tr>\n",
       "\t<tr><th></th><th scope=col>&lt;int&gt;</th><th scope=col>&lt;chr&gt;</th><th scope=col>&lt;chr&gt;</th><th scope=col>&lt;chr&gt;</th><th scope=col>&lt;int&gt;</th><th scope=col>&lt;dbl&gt;</th></tr>\n",
       "</thead>\n",
       "<tbody>\n",
       "\t<tr><th scope=row>1</th><td>0</td><td>FOVISSSTE   </td><td>Viviendas nuevas    </td><td>Cofinanciamientos y subsidios</td><td>  540</td><td>  136193004</td></tr>\n",
       "\t<tr><th scope=row>2</th><td>0</td><td>FOVISSSTE   </td><td>Viviendas nuevas    </td><td>Credito individual           </td><td> 5915</td><td> 5559392992</td></tr>\n",
       "\t<tr><th scope=row>3</th><td>0</td><td>FOVISSSTE   </td><td>Viviendas existentes</td><td>Cofinanciamientos y subsidios</td><td>  496</td><td>  100679621</td></tr>\n",
       "\t<tr><th scope=row>4</th><td>0</td><td>FOVISSSTE   </td><td>Viviendas existentes</td><td>Credito individual           </td><td> 7090</td><td> 6634311182</td></tr>\n",
       "\t<tr><th scope=row>5</th><td>0</td><td>FOVISSSTE   </td><td>Mejoramientos       </td><td>Credito individual           </td><td>   14</td><td>    5240871</td></tr>\n",
       "\t<tr><th scope=row>6</th><td>0</td><td>FOVISSSTE   </td><td>Otros programas     </td><td>Credito individual           </td><td>   19</td><td>   14648518</td></tr>\n",
       "\t<tr><th scope=row>7</th><td>0</td><td>INFONAVIT   </td><td>Viviendas nuevas    </td><td>Cofinanciamientos y subsidios</td><td>17087</td><td>13564742361</td></tr>\n",
       "\t<tr><th scope=row>8</th><td>0</td><td>INFONAVIT   </td><td>Viviendas nuevas    </td><td>Credito individual           </td><td>48019</td><td>30387043267</td></tr>\n",
       "\t<tr><th scope=row>9</th><td>0</td><td>INFONAVIT   </td><td>Viviendas existentes</td><td>Cofinanciamientos y subsidios</td><td> 5069</td><td> 5161808444</td></tr>\n",
       "\t<tr><th scope=row>10</th><td>0</td><td>INFONAVIT   </td><td>Viviendas existentes</td><td>Credito individual           </td><td>54035</td><td>35248039947</td></tr>\n",
       "\t<tr><th scope=row>11</th><td>0</td><td>INFONAVIT   </td><td>Mejoramientos       </td><td>Cofinanciamientos y subsidios</td><td>80767</td><td>  730844279</td></tr>\n",
       "\t<tr><th scope=row>12</th><td>0</td><td>INFONAVIT   </td><td>Mejoramientos       </td><td>Credito individual           </td><td> 4954</td><td> 3180385869</td></tr>\n",
       "\t<tr><th scope=row>13</th><td>0</td><td>INFONAVIT   </td><td>Otros programas     </td><td>Credito individual           </td><td> 2122</td><td> 1394338668</td></tr>\n",
       "\t<tr><th scope=row>14</th><td>0</td><td>CONAVI      </td><td>Viviendas nuevas    </td><td>Cofinanciamientos y subsidios</td><td> 1922</td><td>  491811133</td></tr>\n",
       "\t<tr><th scope=row>15</th><td>0</td><td>CONAVI      </td><td>Mejoramientos       </td><td>Cofinanciamientos y subsidios</td><td>70949</td><td> 2486742629</td></tr>\n",
       "\t<tr><th scope=row>16</th><td>0</td><td>SHF (FONDEO)</td><td>Mejoramientos       </td><td>Credito individual           </td><td>21143</td><td> 1498329705</td></tr>\n",
       "\t<tr><th scope=row>17</th><td>0</td><td>INSUS       </td><td>Otros programas     </td><td>Credito individual           </td><td> 1483</td><td>   20020500</td></tr>\n",
       "\t<tr><th scope=row>18</th><td>0</td><td>BANJERCITO  </td><td>Viviendas nuevas    </td><td>Cofinanciamientos y subsidios</td><td>   33</td><td>   36342395</td></tr>\n",
       "\t<tr><th scope=row>19</th><td>0</td><td>BANJERCITO  </td><td>Viviendas nuevas    </td><td>Credito individual           </td><td>   33</td><td>   46022515</td></tr>\n",
       "\t<tr><th scope=row>20</th><td>0</td><td>BANJERCITO  </td><td>Viviendas existentes</td><td>Cofinanciamientos y subsidios</td><td>   34</td><td>   34819141</td></tr>\n",
       "\t<tr><th scope=row>21</th><td>0</td><td>BANJERCITO  </td><td>Viviendas existentes</td><td>Credito individual           </td><td>   48</td><td>   73963412</td></tr>\n",
       "\t<tr><th scope=row>22</th><td>0</td><td>BANJERCITO  </td><td>Otros programas     </td><td>Credito individual           </td><td>   19</td><td>   25022500</td></tr>\n",
       "\t<tr><th scope=row>23</th><td>0</td><td>BANCA (CNBV)</td><td>Viviendas nuevas    </td><td>Cofinanciamientos y subsidios</td><td> 1760</td><td> 2760143307</td></tr>\n",
       "\t<tr><th scope=row>24</th><td>0</td><td>BANCA (CNBV)</td><td>Viviendas nuevas    </td><td>Credito individual           </td><td>18401</td><td>42541394032</td></tr>\n",
       "\t<tr><th scope=row>25</th><td>0</td><td>BANCA (CNBV)</td><td>Viviendas existentes</td><td>Cofinanciamientos y subsidios</td><td> 1293</td><td> 1980215780</td></tr>\n",
       "\t<tr><th scope=row>26</th><td>0</td><td>BANCA (CNBV)</td><td>Viviendas existentes</td><td>Credito individual           </td><td>10972</td><td>27611616918</td></tr>\n",
       "\t<tr><th scope=row>27</th><td>0</td><td>BANCA (CNBV)</td><td>Mejoramientos       </td><td>Cofinanciamientos y subsidios</td><td>   67</td><td>   52777609</td></tr>\n",
       "\t<tr><th scope=row>28</th><td>0</td><td>BANCA (CNBV)</td><td>Mejoramientos       </td><td>Credito individual           </td><td>  476</td><td>  672898262</td></tr>\n",
       "\t<tr><th scope=row>29</th><td>0</td><td>BANCA (CNBV)</td><td>Otros programas     </td><td>Credito individual           </td><td> 4880</td><td> 8602584323</td></tr>\n",
       "</tbody>\n",
       "</table>\n"
      ],
      "text/markdown": "\nA data.frame: 29 × 6\n\n| <!--/--> | año &lt;int&gt; | organismo &lt;chr&gt; | modalidad &lt;chr&gt; | tipo_credito &lt;chr&gt; | acciones &lt;int&gt; | monto &lt;dbl&gt; |\n|---|---|---|---|---|---|---|\n| 1 | 0 | FOVISSSTE    | Viviendas nuevas     | Cofinanciamientos y subsidios |   540 |   136193004 |\n| 2 | 0 | FOVISSSTE    | Viviendas nuevas     | Credito individual            |  5915 |  5559392992 |\n| 3 | 0 | FOVISSSTE    | Viviendas existentes | Cofinanciamientos y subsidios |   496 |   100679621 |\n| 4 | 0 | FOVISSSTE    | Viviendas existentes | Credito individual            |  7090 |  6634311182 |\n| 5 | 0 | FOVISSSTE    | Mejoramientos        | Credito individual            |    14 |     5240871 |\n| 6 | 0 | FOVISSSTE    | Otros programas      | Credito individual            |    19 |    14648518 |\n| 7 | 0 | INFONAVIT    | Viviendas nuevas     | Cofinanciamientos y subsidios | 17087 | 13564742361 |\n| 8 | 0 | INFONAVIT    | Viviendas nuevas     | Credito individual            | 48019 | 30387043267 |\n| 9 | 0 | INFONAVIT    | Viviendas existentes | Cofinanciamientos y subsidios |  5069 |  5161808444 |\n| 10 | 0 | INFONAVIT    | Viviendas existentes | Credito individual            | 54035 | 35248039947 |\n| 11 | 0 | INFONAVIT    | Mejoramientos        | Cofinanciamientos y subsidios | 80767 |   730844279 |\n| 12 | 0 | INFONAVIT    | Mejoramientos        | Credito individual            |  4954 |  3180385869 |\n| 13 | 0 | INFONAVIT    | Otros programas      | Credito individual            |  2122 |  1394338668 |\n| 14 | 0 | CONAVI       | Viviendas nuevas     | Cofinanciamientos y subsidios |  1922 |   491811133 |\n| 15 | 0 | CONAVI       | Mejoramientos        | Cofinanciamientos y subsidios | 70949 |  2486742629 |\n| 16 | 0 | SHF (FONDEO) | Mejoramientos        | Credito individual            | 21143 |  1498329705 |\n| 17 | 0 | INSUS        | Otros programas      | Credito individual            |  1483 |    20020500 |\n| 18 | 0 | BANJERCITO   | Viviendas nuevas     | Cofinanciamientos y subsidios |    33 |    36342395 |\n| 19 | 0 | BANJERCITO   | Viviendas nuevas     | Credito individual            |    33 |    46022515 |\n| 20 | 0 | BANJERCITO   | Viviendas existentes | Cofinanciamientos y subsidios |    34 |    34819141 |\n| 21 | 0 | BANJERCITO   | Viviendas existentes | Credito individual            |    48 |    73963412 |\n| 22 | 0 | BANJERCITO   | Otros programas      | Credito individual            |    19 |    25022500 |\n| 23 | 0 | BANCA (CNBV) | Viviendas nuevas     | Cofinanciamientos y subsidios |  1760 |  2760143307 |\n| 24 | 0 | BANCA (CNBV) | Viviendas nuevas     | Credito individual            | 18401 | 42541394032 |\n| 25 | 0 | BANCA (CNBV) | Viviendas existentes | Cofinanciamientos y subsidios |  1293 |  1980215780 |\n| 26 | 0 | BANCA (CNBV) | Viviendas existentes | Credito individual            | 10972 | 27611616918 |\n| 27 | 0 | BANCA (CNBV) | Mejoramientos        | Cofinanciamientos y subsidios |    67 |    52777609 |\n| 28 | 0 | BANCA (CNBV) | Mejoramientos        | Credito individual            |   476 |   672898262 |\n| 29 | 0 | BANCA (CNBV) | Otros programas      | Credito individual            |  4880 |  8602584323 |\n\n",
      "text/latex": "A data.frame: 29 × 6\n\\begin{tabular}{r|llllll}\n  & año & organismo & modalidad & tipo\\_credito & acciones & monto\\\\\n  & <int> & <chr> & <chr> & <chr> & <int> & <dbl>\\\\\n\\hline\n\t1 & 0 & FOVISSSTE    & Viviendas nuevas     & Cofinanciamientos y subsidios &   540 &   136193004\\\\\n\t2 & 0 & FOVISSSTE    & Viviendas nuevas     & Credito individual            &  5915 &  5559392992\\\\\n\t3 & 0 & FOVISSSTE    & Viviendas existentes & Cofinanciamientos y subsidios &   496 &   100679621\\\\\n\t4 & 0 & FOVISSSTE    & Viviendas existentes & Credito individual            &  7090 &  6634311182\\\\\n\t5 & 0 & FOVISSSTE    & Mejoramientos        & Credito individual            &    14 &     5240871\\\\\n\t6 & 0 & FOVISSSTE    & Otros programas      & Credito individual            &    19 &    14648518\\\\\n\t7 & 0 & INFONAVIT    & Viviendas nuevas     & Cofinanciamientos y subsidios & 17087 & 13564742361\\\\\n\t8 & 0 & INFONAVIT    & Viviendas nuevas     & Credito individual            & 48019 & 30387043267\\\\\n\t9 & 0 & INFONAVIT    & Viviendas existentes & Cofinanciamientos y subsidios &  5069 &  5161808444\\\\\n\t10 & 0 & INFONAVIT    & Viviendas existentes & Credito individual            & 54035 & 35248039947\\\\\n\t11 & 0 & INFONAVIT    & Mejoramientos        & Cofinanciamientos y subsidios & 80767 &   730844279\\\\\n\t12 & 0 & INFONAVIT    & Mejoramientos        & Credito individual            &  4954 &  3180385869\\\\\n\t13 & 0 & INFONAVIT    & Otros programas      & Credito individual            &  2122 &  1394338668\\\\\n\t14 & 0 & CONAVI       & Viviendas nuevas     & Cofinanciamientos y subsidios &  1922 &   491811133\\\\\n\t15 & 0 & CONAVI       & Mejoramientos        & Cofinanciamientos y subsidios & 70949 &  2486742629\\\\\n\t16 & 0 & SHF (FONDEO) & Mejoramientos        & Credito individual            & 21143 &  1498329705\\\\\n\t17 & 0 & INSUS        & Otros programas      & Credito individual            &  1483 &    20020500\\\\\n\t18 & 0 & BANJERCITO   & Viviendas nuevas     & Cofinanciamientos y subsidios &    33 &    36342395\\\\\n\t19 & 0 & BANJERCITO   & Viviendas nuevas     & Credito individual            &    33 &    46022515\\\\\n\t20 & 0 & BANJERCITO   & Viviendas existentes & Cofinanciamientos y subsidios &    34 &    34819141\\\\\n\t21 & 0 & BANJERCITO   & Viviendas existentes & Credito individual            &    48 &    73963412\\\\\n\t22 & 0 & BANJERCITO   & Otros programas      & Credito individual            &    19 &    25022500\\\\\n\t23 & 0 & BANCA (CNBV) & Viviendas nuevas     & Cofinanciamientos y subsidios &  1760 &  2760143307\\\\\n\t24 & 0 & BANCA (CNBV) & Viviendas nuevas     & Credito individual            & 18401 & 42541394032\\\\\n\t25 & 0 & BANCA (CNBV) & Viviendas existentes & Cofinanciamientos y subsidios &  1293 &  1980215780\\\\\n\t26 & 0 & BANCA (CNBV) & Viviendas existentes & Credito individual            & 10972 & 27611616918\\\\\n\t27 & 0 & BANCA (CNBV) & Mejoramientos        & Cofinanciamientos y subsidios &    67 &    52777609\\\\\n\t28 & 0 & BANCA (CNBV) & Mejoramientos        & Credito individual            &   476 &   672898262\\\\\n\t29 & 0 & BANCA (CNBV) & Otros programas      & Credito individual            &  4880 &  8602584323\\\\\n\\end{tabular}\n",
      "text/plain": [
       "   año organismo    modalidad            tipo_credito                  acciones\n",
       "1  0   FOVISSSTE    Viviendas nuevas     Cofinanciamientos y subsidios   540   \n",
       "2  0   FOVISSSTE    Viviendas nuevas     Credito individual             5915   \n",
       "3  0   FOVISSSTE    Viviendas existentes Cofinanciamientos y subsidios   496   \n",
       "4  0   FOVISSSTE    Viviendas existentes Credito individual             7090   \n",
       "5  0   FOVISSSTE    Mejoramientos        Credito individual               14   \n",
       "6  0   FOVISSSTE    Otros programas      Credito individual               19   \n",
       "7  0   INFONAVIT    Viviendas nuevas     Cofinanciamientos y subsidios 17087   \n",
       "8  0   INFONAVIT    Viviendas nuevas     Credito individual            48019   \n",
       "9  0   INFONAVIT    Viviendas existentes Cofinanciamientos y subsidios  5069   \n",
       "10 0   INFONAVIT    Viviendas existentes Credito individual            54035   \n",
       "11 0   INFONAVIT    Mejoramientos        Cofinanciamientos y subsidios 80767   \n",
       "12 0   INFONAVIT    Mejoramientos        Credito individual             4954   \n",
       "13 0   INFONAVIT    Otros programas      Credito individual             2122   \n",
       "14 0   CONAVI       Viviendas nuevas     Cofinanciamientos y subsidios  1922   \n",
       "15 0   CONAVI       Mejoramientos        Cofinanciamientos y subsidios 70949   \n",
       "16 0   SHF (FONDEO) Mejoramientos        Credito individual            21143   \n",
       "17 0   INSUS        Otros programas      Credito individual             1483   \n",
       "18 0   BANJERCITO   Viviendas nuevas     Cofinanciamientos y subsidios    33   \n",
       "19 0   BANJERCITO   Viviendas nuevas     Credito individual               33   \n",
       "20 0   BANJERCITO   Viviendas existentes Cofinanciamientos y subsidios    34   \n",
       "21 0   BANJERCITO   Viviendas existentes Credito individual               48   \n",
       "22 0   BANJERCITO   Otros programas      Credito individual               19   \n",
       "23 0   BANCA (CNBV) Viviendas nuevas     Cofinanciamientos y subsidios  1760   \n",
       "24 0   BANCA (CNBV) Viviendas nuevas     Credito individual            18401   \n",
       "25 0   BANCA (CNBV) Viviendas existentes Cofinanciamientos y subsidios  1293   \n",
       "26 0   BANCA (CNBV) Viviendas existentes Credito individual            10972   \n",
       "27 0   BANCA (CNBV) Mejoramientos        Cofinanciamientos y subsidios    67   \n",
       "28 0   BANCA (CNBV) Mejoramientos        Credito individual              476   \n",
       "29 0   BANCA (CNBV) Otros programas      Credito individual             4880   \n",
       "   monto      \n",
       "1    136193004\n",
       "2   5559392992\n",
       "3    100679621\n",
       "4   6634311182\n",
       "5      5240871\n",
       "6     14648518\n",
       "7  13564742361\n",
       "8  30387043267\n",
       "9   5161808444\n",
       "10 35248039947\n",
       "11   730844279\n",
       "12  3180385869\n",
       "13  1394338668\n",
       "14   491811133\n",
       "15  2486742629\n",
       "16  1498329705\n",
       "17    20020500\n",
       "18    36342395\n",
       "19    46022515\n",
       "20    34819141\n",
       "21    73963412\n",
       "22    25022500\n",
       "23  2760143307\n",
       "24 42541394032\n",
       "25  1980215780\n",
       "26 27611616918\n",
       "27    52777609\n",
       "28   672898262\n",
       "29  8602584323"
      ]
     },
     "metadata": {},
     "output_type": "display_data"
    }
   ],
   "execution_count": 13
  },
  {
   "metadata": {},
   "cell_type": "markdown",
   "source": "### Obtener datos de producción de vivienda",
   "id": "902bf364cb7052b7"
  },
  {
   "metadata": {
    "ExecuteTime": {
     "end_time": "2024-08-08T02:14:32.877666Z",
     "start_time": "2024-08-08T02:14:32.867281Z"
    }
   },
   "cell_type": "code",
   "source": "urlprod<-\"https://sniiv.sedatu.gob.mx/api/CuboAPI/GetProduccion/2024,2024/0/0/pcu,estado\"",
   "id": "bc3e66a8b0b2ccf5",
   "outputs": [],
   "execution_count": 14
  },
  {
   "metadata": {
    "ExecuteTime": {
     "end_time": "2024-08-08T02:14:33.430543Z",
     "start_time": "2024-08-08T02:14:32.881175Z"
    }
   },
   "cell_type": "code",
   "source": [
    "respuesta<-GET(urlprod, timeout(10000))\n",
    "respuesta$status_code"
   ],
   "id": "62205df250973fe7",
   "outputs": [
    {
     "data": {
      "text/html": [
       "200"
      ],
      "text/markdown": "200",
      "text/latex": "200",
      "text/plain": [
       "[1] 200"
      ]
     },
     "metadata": {},
     "output_type": "display_data"
    }
   ],
   "execution_count": 15
  },
  {
   "metadata": {
    "ExecuteTime": {
     "end_time": "2024-08-08T02:14:33.482170Z",
     "start_time": "2024-08-08T02:14:33.434588Z"
    }
   },
   "cell_type": "code",
   "source": [
    "dfprod<- fromJSON(rawToChar(respuesta$content))\n",
    "dfprod"
   ],
   "id": "2234decf37b7bcf6",
   "outputs": [
    {
     "data": {
      "text/html": [
       "<table class=\"dataframe\">\n",
       "<caption>A data.frame: 118 × 4</caption>\n",
       "<thead>\n",
       "\t<tr><th></th><th scope=col>año</th><th scope=col>estado</th><th scope=col>pcu</th><th scope=col>viviendas</th></tr>\n",
       "\t<tr><th></th><th scope=col>&lt;int&gt;</th><th scope=col>&lt;chr&gt;</th><th scope=col>&lt;chr&gt;</th><th scope=col>&lt;int&gt;</th></tr>\n",
       "</thead>\n",
       "<tbody>\n",
       "\t<tr><th scope=row>1</th><td>0</td><td>Aguascalientes                 </td><td>U1</td><td> 75</td></tr>\n",
       "\t<tr><th scope=row>2</th><td>0</td><td>Baja California                </td><td>U1</td><td> 53</td></tr>\n",
       "\t<tr><th scope=row>3</th><td>0</td><td>Coahuila de Zaragoza           </td><td>U1</td><td>391</td></tr>\n",
       "\t<tr><th scope=row>4</th><td>0</td><td>Colima                         </td><td>U1</td><td> 33</td></tr>\n",
       "\t<tr><th scope=row>5</th><td>0</td><td>Chiapas                        </td><td>U1</td><td> 16</td></tr>\n",
       "\t<tr><th scope=row>6</th><td>0</td><td>Chihuahua                      </td><td>U1</td><td> 89</td></tr>\n",
       "\t<tr><th scope=row>7</th><td>0</td><td>Ciudad de México               </td><td>U1</td><td>337</td></tr>\n",
       "\t<tr><th scope=row>8</th><td>0</td><td>Durango                        </td><td>U1</td><td> 80</td></tr>\n",
       "\t<tr><th scope=row>9</th><td>0</td><td>Guanajuato                     </td><td>U1</td><td> 67</td></tr>\n",
       "\t<tr><th scope=row>10</th><td>0</td><td>Guerrero                       </td><td>U1</td><td> 16</td></tr>\n",
       "\t<tr><th scope=row>11</th><td>0</td><td>Hidalgo                        </td><td>U1</td><td> 62</td></tr>\n",
       "\t<tr><th scope=row>12</th><td>0</td><td>Jalisco                        </td><td>U1</td><td>176</td></tr>\n",
       "\t<tr><th scope=row>13</th><td>0</td><td>México                         </td><td>U1</td><td> 56</td></tr>\n",
       "\t<tr><th scope=row>14</th><td>0</td><td>Michoacán de Ocampo            </td><td>U1</td><td> 21</td></tr>\n",
       "\t<tr><th scope=row>15</th><td>0</td><td>Morelos                        </td><td>U1</td><td>101</td></tr>\n",
       "\t<tr><th scope=row>16</th><td>0</td><td>Nuevo León                     </td><td>U1</td><td>175</td></tr>\n",
       "\t<tr><th scope=row>17</th><td>0</td><td>Oaxaca                         </td><td>U1</td><td>  4</td></tr>\n",
       "\t<tr><th scope=row>18</th><td>0</td><td>Puebla                         </td><td>U1</td><td>474</td></tr>\n",
       "\t<tr><th scope=row>19</th><td>0</td><td>Quintana Roo                   </td><td>U1</td><td> 87</td></tr>\n",
       "\t<tr><th scope=row>20</th><td>0</td><td>San Luis Potosí                </td><td>U1</td><td>  4</td></tr>\n",
       "\t<tr><th scope=row>21</th><td>0</td><td>Sinaloa                        </td><td>U1</td><td> 16</td></tr>\n",
       "\t<tr><th scope=row>22</th><td>0</td><td>Sonora                         </td><td>U1</td><td> 75</td></tr>\n",
       "\t<tr><th scope=row>23</th><td>0</td><td>Tamaulipas                     </td><td>U1</td><td>168</td></tr>\n",
       "\t<tr><th scope=row>24</th><td>0</td><td>Tlaxcala                       </td><td>U1</td><td>121</td></tr>\n",
       "\t<tr><th scope=row>25</th><td>0</td><td>Veracruz de Ignacio de la Llave</td><td>U1</td><td> 25</td></tr>\n",
       "\t<tr><th scope=row>26</th><td>0</td><td>Yucatán                        </td><td>U1</td><td>154</td></tr>\n",
       "\t<tr><th scope=row>27</th><td>0</td><td>Zacatecas                      </td><td>U1</td><td>  6</td></tr>\n",
       "\t<tr><th scope=row>28</th><td>0</td><td>Aguascalientes                 </td><td>U2</td><td>104</td></tr>\n",
       "\t<tr><th scope=row>29</th><td>0</td><td>Baja California                </td><td>U2</td><td>214</td></tr>\n",
       "\t<tr><th scope=row>30</th><td>0</td><td>Baja California Sur            </td><td>U2</td><td>  7</td></tr>\n",
       "\t<tr><th scope=row>⋮</th><td>⋮</td><td>⋮</td><td>⋮</td><td>⋮</td></tr>\n",
       "\t<tr><th scope=row>89</th><td>0</td><td>Zacatecas                      </td><td>U3</td><td> 352</td></tr>\n",
       "\t<tr><th scope=row>90</th><td>0</td><td>Aguascalientes                 </td><td>FC</td><td>  44</td></tr>\n",
       "\t<tr><th scope=row>91</th><td>0</td><td>Baja California                </td><td>FC</td><td> 864</td></tr>\n",
       "\t<tr><th scope=row>92</th><td>0</td><td>Baja California Sur            </td><td>FC</td><td>  16</td></tr>\n",
       "\t<tr><th scope=row>93</th><td>0</td><td>Coahuila de Zaragoza           </td><td>FC</td><td> 407</td></tr>\n",
       "\t<tr><th scope=row>94</th><td>0</td><td>Colima                         </td><td>FC</td><td>  70</td></tr>\n",
       "\t<tr><th scope=row>95</th><td>0</td><td>Chiapas                        </td><td>FC</td><td> 101</td></tr>\n",
       "\t<tr><th scope=row>96</th><td>0</td><td>Chihuahua                      </td><td>FC</td><td>  51</td></tr>\n",
       "\t<tr><th scope=row>97</th><td>0</td><td>Durango                        </td><td>FC</td><td> 208</td></tr>\n",
       "\t<tr><th scope=row>98</th><td>0</td><td>Guanajuato                     </td><td>FC</td><td> 530</td></tr>\n",
       "\t<tr><th scope=row>99</th><td>0</td><td>Guerrero                       </td><td>FC</td><td>   8</td></tr>\n",
       "\t<tr><th scope=row>100</th><td>0</td><td>Hidalgo                        </td><td>FC</td><td>1627</td></tr>\n",
       "\t<tr><th scope=row>101</th><td>0</td><td>Jalisco                        </td><td>FC</td><td> 637</td></tr>\n",
       "\t<tr><th scope=row>102</th><td>0</td><td>México                         </td><td>FC</td><td> 842</td></tr>\n",
       "\t<tr><th scope=row>103</th><td>0</td><td>Michoacán de Ocampo            </td><td>FC</td><td>  34</td></tr>\n",
       "\t<tr><th scope=row>104</th><td>0</td><td>Morelos                        </td><td>FC</td><td> 431</td></tr>\n",
       "\t<tr><th scope=row>105</th><td>0</td><td>Nayarit                        </td><td>FC</td><td> 120</td></tr>\n",
       "\t<tr><th scope=row>106</th><td>0</td><td>Nuevo León                     </td><td>FC</td><td>2889</td></tr>\n",
       "\t<tr><th scope=row>107</th><td>0</td><td>Puebla                         </td><td>FC</td><td> 322</td></tr>\n",
       "\t<tr><th scope=row>108</th><td>0</td><td>Querétaro                      </td><td>FC</td><td> 879</td></tr>\n",
       "\t<tr><th scope=row>109</th><td>0</td><td>Quintana Roo                   </td><td>FC</td><td>1496</td></tr>\n",
       "\t<tr><th scope=row>110</th><td>0</td><td>San Luis Potosí                </td><td>FC</td><td>  34</td></tr>\n",
       "\t<tr><th scope=row>111</th><td>0</td><td>Sinaloa                        </td><td>FC</td><td>   2</td></tr>\n",
       "\t<tr><th scope=row>112</th><td>0</td><td>Sonora                         </td><td>FC</td><td>  26</td></tr>\n",
       "\t<tr><th scope=row>113</th><td>0</td><td>Tabasco                        </td><td>FC</td><td>  82</td></tr>\n",
       "\t<tr><th scope=row>114</th><td>0</td><td>Tamaulipas                     </td><td>FC</td><td> 569</td></tr>\n",
       "\t<tr><th scope=row>115</th><td>0</td><td>Tlaxcala                       </td><td>FC</td><td>   4</td></tr>\n",
       "\t<tr><th scope=row>116</th><td>0</td><td>Veracruz de Ignacio de la Llave</td><td>FC</td><td>  68</td></tr>\n",
       "\t<tr><th scope=row>117</th><td>0</td><td>Yucatán                        </td><td>FC</td><td> 273</td></tr>\n",
       "\t<tr><th scope=row>118</th><td>0</td><td>Zacatecas                      </td><td>FC</td><td>  11</td></tr>\n",
       "</tbody>\n",
       "</table>\n"
      ],
      "text/markdown": "\nA data.frame: 118 × 4\n\n| <!--/--> | año &lt;int&gt; | estado &lt;chr&gt; | pcu &lt;chr&gt; | viviendas &lt;int&gt; |\n|---|---|---|---|---|\n| 1 | 0 | Aguascalientes                  | U1 |  75 |\n| 2 | 0 | Baja California                 | U1 |  53 |\n| 3 | 0 | Coahuila de Zaragoza            | U1 | 391 |\n| 4 | 0 | Colima                          | U1 |  33 |\n| 5 | 0 | Chiapas                         | U1 |  16 |\n| 6 | 0 | Chihuahua                       | U1 |  89 |\n| 7 | 0 | Ciudad de México                | U1 | 337 |\n| 8 | 0 | Durango                         | U1 |  80 |\n| 9 | 0 | Guanajuato                      | U1 |  67 |\n| 10 | 0 | Guerrero                        | U1 |  16 |\n| 11 | 0 | Hidalgo                         | U1 |  62 |\n| 12 | 0 | Jalisco                         | U1 | 176 |\n| 13 | 0 | México                          | U1 |  56 |\n| 14 | 0 | Michoacán de Ocampo             | U1 |  21 |\n| 15 | 0 | Morelos                         | U1 | 101 |\n| 16 | 0 | Nuevo León                      | U1 | 175 |\n| 17 | 0 | Oaxaca                          | U1 |   4 |\n| 18 | 0 | Puebla                          | U1 | 474 |\n| 19 | 0 | Quintana Roo                    | U1 |  87 |\n| 20 | 0 | San Luis Potosí                 | U1 |   4 |\n| 21 | 0 | Sinaloa                         | U1 |  16 |\n| 22 | 0 | Sonora                          | U1 |  75 |\n| 23 | 0 | Tamaulipas                      | U1 | 168 |\n| 24 | 0 | Tlaxcala                        | U1 | 121 |\n| 25 | 0 | Veracruz de Ignacio de la Llave | U1 |  25 |\n| 26 | 0 | Yucatán                         | U1 | 154 |\n| 27 | 0 | Zacatecas                       | U1 |   6 |\n| 28 | 0 | Aguascalientes                  | U2 | 104 |\n| 29 | 0 | Baja California                 | U2 | 214 |\n| 30 | 0 | Baja California Sur             | U2 |   7 |\n| ⋮ | ⋮ | ⋮ | ⋮ | ⋮ |\n| 89 | 0 | Zacatecas                       | U3 |  352 |\n| 90 | 0 | Aguascalientes                  | FC |   44 |\n| 91 | 0 | Baja California                 | FC |  864 |\n| 92 | 0 | Baja California Sur             | FC |   16 |\n| 93 | 0 | Coahuila de Zaragoza            | FC |  407 |\n| 94 | 0 | Colima                          | FC |   70 |\n| 95 | 0 | Chiapas                         | FC |  101 |\n| 96 | 0 | Chihuahua                       | FC |   51 |\n| 97 | 0 | Durango                         | FC |  208 |\n| 98 | 0 | Guanajuato                      | FC |  530 |\n| 99 | 0 | Guerrero                        | FC |    8 |\n| 100 | 0 | Hidalgo                         | FC | 1627 |\n| 101 | 0 | Jalisco                         | FC |  637 |\n| 102 | 0 | México                          | FC |  842 |\n| 103 | 0 | Michoacán de Ocampo             | FC |   34 |\n| 104 | 0 | Morelos                         | FC |  431 |\n| 105 | 0 | Nayarit                         | FC |  120 |\n| 106 | 0 | Nuevo León                      | FC | 2889 |\n| 107 | 0 | Puebla                          | FC |  322 |\n| 108 | 0 | Querétaro                       | FC |  879 |\n| 109 | 0 | Quintana Roo                    | FC | 1496 |\n| 110 | 0 | San Luis Potosí                 | FC |   34 |\n| 111 | 0 | Sinaloa                         | FC |    2 |\n| 112 | 0 | Sonora                          | FC |   26 |\n| 113 | 0 | Tabasco                         | FC |   82 |\n| 114 | 0 | Tamaulipas                      | FC |  569 |\n| 115 | 0 | Tlaxcala                        | FC |    4 |\n| 116 | 0 | Veracruz de Ignacio de la Llave | FC |   68 |\n| 117 | 0 | Yucatán                         | FC |  273 |\n| 118 | 0 | Zacatecas                       | FC |   11 |\n\n",
      "text/latex": "A data.frame: 118 × 4\n\\begin{tabular}{r|llll}\n  & año & estado & pcu & viviendas\\\\\n  & <int> & <chr> & <chr> & <int>\\\\\n\\hline\n\t1 & 0 & Aguascalientes                  & U1 &  75\\\\\n\t2 & 0 & Baja California                 & U1 &  53\\\\\n\t3 & 0 & Coahuila de Zaragoza            & U1 & 391\\\\\n\t4 & 0 & Colima                          & U1 &  33\\\\\n\t5 & 0 & Chiapas                         & U1 &  16\\\\\n\t6 & 0 & Chihuahua                       & U1 &  89\\\\\n\t7 & 0 & Ciudad de México                & U1 & 337\\\\\n\t8 & 0 & Durango                         & U1 &  80\\\\\n\t9 & 0 & Guanajuato                      & U1 &  67\\\\\n\t10 & 0 & Guerrero                        & U1 &  16\\\\\n\t11 & 0 & Hidalgo                         & U1 &  62\\\\\n\t12 & 0 & Jalisco                         & U1 & 176\\\\\n\t13 & 0 & México                          & U1 &  56\\\\\n\t14 & 0 & Michoacán de Ocampo             & U1 &  21\\\\\n\t15 & 0 & Morelos                         & U1 & 101\\\\\n\t16 & 0 & Nuevo León                      & U1 & 175\\\\\n\t17 & 0 & Oaxaca                          & U1 &   4\\\\\n\t18 & 0 & Puebla                          & U1 & 474\\\\\n\t19 & 0 & Quintana Roo                    & U1 &  87\\\\\n\t20 & 0 & San Luis Potosí                 & U1 &   4\\\\\n\t21 & 0 & Sinaloa                         & U1 &  16\\\\\n\t22 & 0 & Sonora                          & U1 &  75\\\\\n\t23 & 0 & Tamaulipas                      & U1 & 168\\\\\n\t24 & 0 & Tlaxcala                        & U1 & 121\\\\\n\t25 & 0 & Veracruz de Ignacio de la Llave & U1 &  25\\\\\n\t26 & 0 & Yucatán                         & U1 & 154\\\\\n\t27 & 0 & Zacatecas                       & U1 &   6\\\\\n\t28 & 0 & Aguascalientes                  & U2 & 104\\\\\n\t29 & 0 & Baja California                 & U2 & 214\\\\\n\t30 & 0 & Baja California Sur             & U2 &   7\\\\\n\t⋮ & ⋮ & ⋮ & ⋮ & ⋮\\\\\n\t89 & 0 & Zacatecas                       & U3 &  352\\\\\n\t90 & 0 & Aguascalientes                  & FC &   44\\\\\n\t91 & 0 & Baja California                 & FC &  864\\\\\n\t92 & 0 & Baja California Sur             & FC &   16\\\\\n\t93 & 0 & Coahuila de Zaragoza            & FC &  407\\\\\n\t94 & 0 & Colima                          & FC &   70\\\\\n\t95 & 0 & Chiapas                         & FC &  101\\\\\n\t96 & 0 & Chihuahua                       & FC &   51\\\\\n\t97 & 0 & Durango                         & FC &  208\\\\\n\t98 & 0 & Guanajuato                      & FC &  530\\\\\n\t99 & 0 & Guerrero                        & FC &    8\\\\\n\t100 & 0 & Hidalgo                         & FC & 1627\\\\\n\t101 & 0 & Jalisco                         & FC &  637\\\\\n\t102 & 0 & México                          & FC &  842\\\\\n\t103 & 0 & Michoacán de Ocampo             & FC &   34\\\\\n\t104 & 0 & Morelos                         & FC &  431\\\\\n\t105 & 0 & Nayarit                         & FC &  120\\\\\n\t106 & 0 & Nuevo León                      & FC & 2889\\\\\n\t107 & 0 & Puebla                          & FC &  322\\\\\n\t108 & 0 & Querétaro                       & FC &  879\\\\\n\t109 & 0 & Quintana Roo                    & FC & 1496\\\\\n\t110 & 0 & San Luis Potosí                 & FC &   34\\\\\n\t111 & 0 & Sinaloa                         & FC &    2\\\\\n\t112 & 0 & Sonora                          & FC &   26\\\\\n\t113 & 0 & Tabasco                         & FC &   82\\\\\n\t114 & 0 & Tamaulipas                      & FC &  569\\\\\n\t115 & 0 & Tlaxcala                        & FC &    4\\\\\n\t116 & 0 & Veracruz de Ignacio de la Llave & FC &   68\\\\\n\t117 & 0 & Yucatán                         & FC &  273\\\\\n\t118 & 0 & Zacatecas                       & FC &   11\\\\\n\\end{tabular}\n",
      "text/plain": [
       "    año estado                          pcu viviendas\n",
       "1   0   Aguascalientes                  U1   75      \n",
       "2   0   Baja California                 U1   53      \n",
       "3   0   Coahuila de Zaragoza            U1  391      \n",
       "4   0   Colima                          U1   33      \n",
       "5   0   Chiapas                         U1   16      \n",
       "6   0   Chihuahua                       U1   89      \n",
       "7   0   Ciudad de México                U1  337      \n",
       "8   0   Durango                         U1   80      \n",
       "9   0   Guanajuato                      U1   67      \n",
       "10  0   Guerrero                        U1   16      \n",
       "11  0   Hidalgo                         U1   62      \n",
       "12  0   Jalisco                         U1  176      \n",
       "13  0   México                          U1   56      \n",
       "14  0   Michoacán de Ocampo             U1   21      \n",
       "15  0   Morelos                         U1  101      \n",
       "16  0   Nuevo León                      U1  175      \n",
       "17  0   Oaxaca                          U1    4      \n",
       "18  0   Puebla                          U1  474      \n",
       "19  0   Quintana Roo                    U1   87      \n",
       "20  0   San Luis Potosí                 U1    4      \n",
       "21  0   Sinaloa                         U1   16      \n",
       "22  0   Sonora                          U1   75      \n",
       "23  0   Tamaulipas                      U1  168      \n",
       "24  0   Tlaxcala                        U1  121      \n",
       "25  0   Veracruz de Ignacio de la Llave U1   25      \n",
       "26  0   Yucatán                         U1  154      \n",
       "27  0   Zacatecas                       U1    6      \n",
       "28  0   Aguascalientes                  U2  104      \n",
       "29  0   Baja California                 U2  214      \n",
       "30  0   Baja California Sur             U2    7      \n",
       "⋮   ⋮   ⋮                               ⋮   ⋮        \n",
       "89  0   Zacatecas                       U3   352     \n",
       "90  0   Aguascalientes                  FC    44     \n",
       "91  0   Baja California                 FC   864     \n",
       "92  0   Baja California Sur             FC    16     \n",
       "93  0   Coahuila de Zaragoza            FC   407     \n",
       "94  0   Colima                          FC    70     \n",
       "95  0   Chiapas                         FC   101     \n",
       "96  0   Chihuahua                       FC    51     \n",
       "97  0   Durango                         FC   208     \n",
       "98  0   Guanajuato                      FC   530     \n",
       "99  0   Guerrero                        FC     8     \n",
       "100 0   Hidalgo                         FC  1627     \n",
       "101 0   Jalisco                         FC   637     \n",
       "102 0   México                          FC   842     \n",
       "103 0   Michoacán de Ocampo             FC    34     \n",
       "104 0   Morelos                         FC   431     \n",
       "105 0   Nayarit                         FC   120     \n",
       "106 0   Nuevo León                      FC  2889     \n",
       "107 0   Puebla                          FC   322     \n",
       "108 0   Querétaro                       FC   879     \n",
       "109 0   Quintana Roo                    FC  1496     \n",
       "110 0   San Luis Potosí                 FC    34     \n",
       "111 0   Sinaloa                         FC     2     \n",
       "112 0   Sonora                          FC    26     \n",
       "113 0   Tabasco                         FC    82     \n",
       "114 0   Tamaulipas                      FC   569     \n",
       "115 0   Tlaxcala                        FC     4     \n",
       "116 0   Veracruz de Ignacio de la Llave FC    68     \n",
       "117 0   Yucatán                         FC   273     \n",
       "118 0   Zacatecas                       FC    11     "
      ]
     },
     "metadata": {},
     "output_type": "display_data"
    }
   ],
   "execution_count": 16
  }
 ],
 "metadata": {
  "kernelspec": {
   "display_name": "R",
   "language": "R",
   "name": "ir"
  },
  "language_info": {
   "codemirror_mode": {
    "name": "ipython",
    "version": 2
   },
   "file_extension": ".py",
   "mimetype": "text/x-python",
   "name": "python",
   "nbconvert_exporter": "python",
   "pygments_lexer": "ipython2",
   "version": "2.7.6"
  }
 },
 "nbformat": 4,
 "nbformat_minor": 5
}
